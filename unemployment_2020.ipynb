{
  "nbformat": 4,
  "nbformat_minor": 0,
  "metadata": {
    "colab": {
      "name": "unemployment-2020.ipynb",
      "provenance": [],
      "collapsed_sections": [],
      "authorship_tag": "ABX9TyOqO9pzGgk2MO0LE521STMO"
    },
    "kernelspec": {
      "name": "python3",
      "display_name": "Python 3"
    },
    "language_info": {
      "name": "python"
    }
  },
  "cells": [
    {
      "cell_type": "code",
      "metadata": {
        "id": "mZCBzGX4f-MC"
      },
      "source": [
        "import pandas as pd\n",
        "import numpy as np"
      ],
      "execution_count": 1,
      "outputs": []
    },
    {
      "cell_type": "code",
      "metadata": {
        "id": "7GItRKrsgDJM"
      },
      "source": [
        "data = pd.read_excel('/content/API_SL.UEM.TOTL.ZS_DS2_en_excel_v2_2163379.xls')"
      ],
      "execution_count": 166,
      "outputs": []
    },
    {
      "cell_type": "code",
      "metadata": {
        "colab": {
          "base_uri": "https://localhost:8080/",
          "height": 417
        },
        "id": "fyYbcdBTgi2s",
        "outputId": "8125c624-ec9e-47de-ce16-fa7fd440d728"
      },
      "source": [
        "data.head()"
      ],
      "execution_count": 167,
      "outputs": [
        {
          "output_type": "execute_result",
          "data": {
            "text/html": [
              "<div>\n",
              "<style scoped>\n",
              "    .dataframe tbody tr th:only-of-type {\n",
              "        vertical-align: middle;\n",
              "    }\n",
              "\n",
              "    .dataframe tbody tr th {\n",
              "        vertical-align: top;\n",
              "    }\n",
              "\n",
              "    .dataframe thead th {\n",
              "        text-align: right;\n",
              "    }\n",
              "</style>\n",
              "<table border=\"1\" class=\"dataframe\">\n",
              "  <thead>\n",
              "    <tr style=\"text-align: right;\">\n",
              "      <th></th>\n",
              "      <th>Country Name</th>\n",
              "      <th>Country Code</th>\n",
              "      <th>Indicator Name</th>\n",
              "      <th>Indicator Code</th>\n",
              "      <th>1960</th>\n",
              "      <th>1961</th>\n",
              "      <th>1962</th>\n",
              "      <th>1963</th>\n",
              "      <th>1964</th>\n",
              "      <th>1965</th>\n",
              "      <th>1966</th>\n",
              "      <th>1967</th>\n",
              "      <th>1968</th>\n",
              "      <th>1969</th>\n",
              "      <th>1970</th>\n",
              "      <th>1971</th>\n",
              "      <th>1972</th>\n",
              "      <th>1973</th>\n",
              "      <th>1974</th>\n",
              "      <th>1975</th>\n",
              "      <th>1976</th>\n",
              "      <th>1977</th>\n",
              "      <th>1978</th>\n",
              "      <th>1979</th>\n",
              "      <th>1980</th>\n",
              "      <th>1981</th>\n",
              "      <th>1982</th>\n",
              "      <th>1983</th>\n",
              "      <th>1984</th>\n",
              "      <th>1985</th>\n",
              "      <th>1986</th>\n",
              "      <th>1987</th>\n",
              "      <th>1988</th>\n",
              "      <th>1989</th>\n",
              "      <th>1990</th>\n",
              "      <th>1991</th>\n",
              "      <th>1992</th>\n",
              "      <th>1993</th>\n",
              "      <th>1994</th>\n",
              "      <th>1995</th>\n",
              "      <th>1996</th>\n",
              "      <th>1997</th>\n",
              "      <th>1998</th>\n",
              "      <th>1999</th>\n",
              "      <th>2000</th>\n",
              "      <th>2001</th>\n",
              "      <th>2002</th>\n",
              "      <th>2003</th>\n",
              "      <th>2004</th>\n",
              "      <th>2005</th>\n",
              "      <th>2006</th>\n",
              "      <th>2007</th>\n",
              "      <th>2008</th>\n",
              "      <th>2009</th>\n",
              "      <th>2010</th>\n",
              "      <th>2011</th>\n",
              "      <th>2012</th>\n",
              "      <th>2013</th>\n",
              "      <th>2014</th>\n",
              "      <th>2015</th>\n",
              "      <th>2016</th>\n",
              "      <th>2017</th>\n",
              "      <th>2018</th>\n",
              "      <th>2019</th>\n",
              "      <th>2020</th>\n",
              "    </tr>\n",
              "  </thead>\n",
              "  <tbody>\n",
              "    <tr>\n",
              "      <th>0</th>\n",
              "      <td>Aruba</td>\n",
              "      <td>ABW</td>\n",
              "      <td>Unemployment, total (% of total labor force) (...</td>\n",
              "      <td>SL.UEM.TOTL.ZS</td>\n",
              "      <td>NaN</td>\n",
              "      <td>NaN</td>\n",
              "      <td>NaN</td>\n",
              "      <td>NaN</td>\n",
              "      <td>NaN</td>\n",
              "      <td>NaN</td>\n",
              "      <td>NaN</td>\n",
              "      <td>NaN</td>\n",
              "      <td>NaN</td>\n",
              "      <td>NaN</td>\n",
              "      <td>NaN</td>\n",
              "      <td>NaN</td>\n",
              "      <td>NaN</td>\n",
              "      <td>NaN</td>\n",
              "      <td>NaN</td>\n",
              "      <td>NaN</td>\n",
              "      <td>NaN</td>\n",
              "      <td>NaN</td>\n",
              "      <td>NaN</td>\n",
              "      <td>NaN</td>\n",
              "      <td>NaN</td>\n",
              "      <td>NaN</td>\n",
              "      <td>NaN</td>\n",
              "      <td>NaN</td>\n",
              "      <td>NaN</td>\n",
              "      <td>NaN</td>\n",
              "      <td>NaN</td>\n",
              "      <td>NaN</td>\n",
              "      <td>NaN</td>\n",
              "      <td>NaN</td>\n",
              "      <td>NaN</td>\n",
              "      <td>NaN</td>\n",
              "      <td>NaN</td>\n",
              "      <td>NaN</td>\n",
              "      <td>NaN</td>\n",
              "      <td>NaN</td>\n",
              "      <td>NaN</td>\n",
              "      <td>NaN</td>\n",
              "      <td>NaN</td>\n",
              "      <td>NaN</td>\n",
              "      <td>NaN</td>\n",
              "      <td>NaN</td>\n",
              "      <td>NaN</td>\n",
              "      <td>NaN</td>\n",
              "      <td>NaN</td>\n",
              "      <td>NaN</td>\n",
              "      <td>NaN</td>\n",
              "      <td>NaN</td>\n",
              "      <td>NaN</td>\n",
              "      <td>NaN</td>\n",
              "      <td>NaN</td>\n",
              "      <td>NaN</td>\n",
              "      <td>NaN</td>\n",
              "      <td>NaN</td>\n",
              "      <td>NaN</td>\n",
              "      <td>NaN</td>\n",
              "      <td>NaN</td>\n",
              "      <td>NaN</td>\n",
              "      <td>NaN</td>\n",
              "      <td>NaN</td>\n",
              "      <td>NaN</td>\n",
              "    </tr>\n",
              "    <tr>\n",
              "      <th>1</th>\n",
              "      <td>Afghanistan</td>\n",
              "      <td>AFG</td>\n",
              "      <td>Unemployment, total (% of total labor force) (...</td>\n",
              "      <td>SL.UEM.TOTL.ZS</td>\n",
              "      <td>NaN</td>\n",
              "      <td>NaN</td>\n",
              "      <td>NaN</td>\n",
              "      <td>NaN</td>\n",
              "      <td>NaN</td>\n",
              "      <td>NaN</td>\n",
              "      <td>NaN</td>\n",
              "      <td>NaN</td>\n",
              "      <td>NaN</td>\n",
              "      <td>NaN</td>\n",
              "      <td>NaN</td>\n",
              "      <td>NaN</td>\n",
              "      <td>NaN</td>\n",
              "      <td>NaN</td>\n",
              "      <td>NaN</td>\n",
              "      <td>NaN</td>\n",
              "      <td>NaN</td>\n",
              "      <td>NaN</td>\n",
              "      <td>NaN</td>\n",
              "      <td>NaN</td>\n",
              "      <td>NaN</td>\n",
              "      <td>NaN</td>\n",
              "      <td>NaN</td>\n",
              "      <td>NaN</td>\n",
              "      <td>NaN</td>\n",
              "      <td>NaN</td>\n",
              "      <td>NaN</td>\n",
              "      <td>NaN</td>\n",
              "      <td>NaN</td>\n",
              "      <td>NaN</td>\n",
              "      <td>NaN</td>\n",
              "      <td>11.380000</td>\n",
              "      <td>11.46</td>\n",
              "      <td>11.61</td>\n",
              "      <td>11.65</td>\n",
              "      <td>11.65</td>\n",
              "      <td>11.65</td>\n",
              "      <td>11.640000</td>\n",
              "      <td>11.640000</td>\n",
              "      <td>11.690000</td>\n",
              "      <td>11.65</td>\n",
              "      <td>11.630000</td>\n",
              "      <td>11.680000</td>\n",
              "      <td>11.680000</td>\n",
              "      <td>11.61</td>\n",
              "      <td>11.52</td>\n",
              "      <td>11.34</td>\n",
              "      <td>11.18</td>\n",
              "      <td>11.11</td>\n",
              "      <td>11.46</td>\n",
              "      <td>11.52</td>\n",
              "      <td>11.51</td>\n",
              "      <td>11.52</td>\n",
              "      <td>11.54</td>\n",
              "      <td>11.450000</td>\n",
              "      <td>11.390000</td>\n",
              "      <td>11.31</td>\n",
              "      <td>11.18</td>\n",
              "      <td>11.06</td>\n",
              "      <td>10.98</td>\n",
              "      <td>11.73</td>\n",
              "    </tr>\n",
              "    <tr>\n",
              "      <th>2</th>\n",
              "      <td>Angola</td>\n",
              "      <td>AGO</td>\n",
              "      <td>Unemployment, total (% of total labor force) (...</td>\n",
              "      <td>SL.UEM.TOTL.ZS</td>\n",
              "      <td>NaN</td>\n",
              "      <td>NaN</td>\n",
              "      <td>NaN</td>\n",
              "      <td>NaN</td>\n",
              "      <td>NaN</td>\n",
              "      <td>NaN</td>\n",
              "      <td>NaN</td>\n",
              "      <td>NaN</td>\n",
              "      <td>NaN</td>\n",
              "      <td>NaN</td>\n",
              "      <td>NaN</td>\n",
              "      <td>NaN</td>\n",
              "      <td>NaN</td>\n",
              "      <td>NaN</td>\n",
              "      <td>NaN</td>\n",
              "      <td>NaN</td>\n",
              "      <td>NaN</td>\n",
              "      <td>NaN</td>\n",
              "      <td>NaN</td>\n",
              "      <td>NaN</td>\n",
              "      <td>NaN</td>\n",
              "      <td>NaN</td>\n",
              "      <td>NaN</td>\n",
              "      <td>NaN</td>\n",
              "      <td>NaN</td>\n",
              "      <td>NaN</td>\n",
              "      <td>NaN</td>\n",
              "      <td>NaN</td>\n",
              "      <td>NaN</td>\n",
              "      <td>NaN</td>\n",
              "      <td>NaN</td>\n",
              "      <td>3.750000</td>\n",
              "      <td>3.78</td>\n",
              "      <td>3.85</td>\n",
              "      <td>3.87</td>\n",
              "      <td>3.86</td>\n",
              "      <td>3.86</td>\n",
              "      <td>3.860000</td>\n",
              "      <td>3.860000</td>\n",
              "      <td>3.880000</td>\n",
              "      <td>3.87</td>\n",
              "      <td>3.850000</td>\n",
              "      <td>3.880000</td>\n",
              "      <td>3.880000</td>\n",
              "      <td>3.85</td>\n",
              "      <td>3.81</td>\n",
              "      <td>3.73</td>\n",
              "      <td>3.66</td>\n",
              "      <td>3.63</td>\n",
              "      <td>3.78</td>\n",
              "      <td>9.43</td>\n",
              "      <td>7.36</td>\n",
              "      <td>7.37</td>\n",
              "      <td>7.38</td>\n",
              "      <td>7.310000</td>\n",
              "      <td>7.260000</td>\n",
              "      <td>7.20</td>\n",
              "      <td>7.10</td>\n",
              "      <td>7.00</td>\n",
              "      <td>6.93</td>\n",
              "      <td>7.70</td>\n",
              "    </tr>\n",
              "    <tr>\n",
              "      <th>3</th>\n",
              "      <td>Albania</td>\n",
              "      <td>ALB</td>\n",
              "      <td>Unemployment, total (% of total labor force) (...</td>\n",
              "      <td>SL.UEM.TOTL.ZS</td>\n",
              "      <td>NaN</td>\n",
              "      <td>NaN</td>\n",
              "      <td>NaN</td>\n",
              "      <td>NaN</td>\n",
              "      <td>NaN</td>\n",
              "      <td>NaN</td>\n",
              "      <td>NaN</td>\n",
              "      <td>NaN</td>\n",
              "      <td>NaN</td>\n",
              "      <td>NaN</td>\n",
              "      <td>NaN</td>\n",
              "      <td>NaN</td>\n",
              "      <td>NaN</td>\n",
              "      <td>NaN</td>\n",
              "      <td>NaN</td>\n",
              "      <td>NaN</td>\n",
              "      <td>NaN</td>\n",
              "      <td>NaN</td>\n",
              "      <td>NaN</td>\n",
              "      <td>NaN</td>\n",
              "      <td>NaN</td>\n",
              "      <td>NaN</td>\n",
              "      <td>NaN</td>\n",
              "      <td>NaN</td>\n",
              "      <td>NaN</td>\n",
              "      <td>NaN</td>\n",
              "      <td>NaN</td>\n",
              "      <td>NaN</td>\n",
              "      <td>NaN</td>\n",
              "      <td>NaN</td>\n",
              "      <td>NaN</td>\n",
              "      <td>16.219999</td>\n",
              "      <td>16.33</td>\n",
              "      <td>16.52</td>\n",
              "      <td>16.57</td>\n",
              "      <td>16.57</td>\n",
              "      <td>16.57</td>\n",
              "      <td>16.549999</td>\n",
              "      <td>16.549999</td>\n",
              "      <td>16.620001</td>\n",
              "      <td>16.58</td>\n",
              "      <td>16.540001</td>\n",
              "      <td>16.610001</td>\n",
              "      <td>16.610001</td>\n",
              "      <td>16.52</td>\n",
              "      <td>16.40</td>\n",
              "      <td>16.17</td>\n",
              "      <td>15.97</td>\n",
              "      <td>13.06</td>\n",
              "      <td>13.67</td>\n",
              "      <td>14.09</td>\n",
              "      <td>13.48</td>\n",
              "      <td>13.38</td>\n",
              "      <td>15.87</td>\n",
              "      <td>18.059999</td>\n",
              "      <td>17.190001</td>\n",
              "      <td>15.42</td>\n",
              "      <td>13.62</td>\n",
              "      <td>12.30</td>\n",
              "      <td>11.47</td>\n",
              "      <td>11.70</td>\n",
              "    </tr>\n",
              "    <tr>\n",
              "      <th>4</th>\n",
              "      <td>Andorra</td>\n",
              "      <td>AND</td>\n",
              "      <td>Unemployment, total (% of total labor force) (...</td>\n",
              "      <td>SL.UEM.TOTL.ZS</td>\n",
              "      <td>NaN</td>\n",
              "      <td>NaN</td>\n",
              "      <td>NaN</td>\n",
              "      <td>NaN</td>\n",
              "      <td>NaN</td>\n",
              "      <td>NaN</td>\n",
              "      <td>NaN</td>\n",
              "      <td>NaN</td>\n",
              "      <td>NaN</td>\n",
              "      <td>NaN</td>\n",
              "      <td>NaN</td>\n",
              "      <td>NaN</td>\n",
              "      <td>NaN</td>\n",
              "      <td>NaN</td>\n",
              "      <td>NaN</td>\n",
              "      <td>NaN</td>\n",
              "      <td>NaN</td>\n",
              "      <td>NaN</td>\n",
              "      <td>NaN</td>\n",
              "      <td>NaN</td>\n",
              "      <td>NaN</td>\n",
              "      <td>NaN</td>\n",
              "      <td>NaN</td>\n",
              "      <td>NaN</td>\n",
              "      <td>NaN</td>\n",
              "      <td>NaN</td>\n",
              "      <td>NaN</td>\n",
              "      <td>NaN</td>\n",
              "      <td>NaN</td>\n",
              "      <td>NaN</td>\n",
              "      <td>NaN</td>\n",
              "      <td>NaN</td>\n",
              "      <td>NaN</td>\n",
              "      <td>NaN</td>\n",
              "      <td>NaN</td>\n",
              "      <td>NaN</td>\n",
              "      <td>NaN</td>\n",
              "      <td>NaN</td>\n",
              "      <td>NaN</td>\n",
              "      <td>NaN</td>\n",
              "      <td>NaN</td>\n",
              "      <td>NaN</td>\n",
              "      <td>NaN</td>\n",
              "      <td>NaN</td>\n",
              "      <td>NaN</td>\n",
              "      <td>NaN</td>\n",
              "      <td>NaN</td>\n",
              "      <td>NaN</td>\n",
              "      <td>NaN</td>\n",
              "      <td>NaN</td>\n",
              "      <td>NaN</td>\n",
              "      <td>NaN</td>\n",
              "      <td>NaN</td>\n",
              "      <td>NaN</td>\n",
              "      <td>NaN</td>\n",
              "      <td>NaN</td>\n",
              "      <td>NaN</td>\n",
              "      <td>NaN</td>\n",
              "      <td>NaN</td>\n",
              "      <td>NaN</td>\n",
              "      <td>NaN</td>\n",
              "    </tr>\n",
              "  </tbody>\n",
              "</table>\n",
              "</div>"
            ],
            "text/plain": [
              "  Country Name Country Code  ...   2019   2020\n",
              "0        Aruba          ABW  ...    NaN    NaN\n",
              "1  Afghanistan          AFG  ...  10.98  11.73\n",
              "2       Angola          AGO  ...   6.93   7.70\n",
              "3      Albania          ALB  ...  11.47  11.70\n",
              "4      Andorra          AND  ...    NaN    NaN\n",
              "\n",
              "[5 rows x 65 columns]"
            ]
          },
          "metadata": {
            "tags": []
          },
          "execution_count": 167
        }
      ]
    },
    {
      "cell_type": "markdown",
      "metadata": {
        "id": "oXsANnDT5dvk"
      },
      "source": [
        "# **Female stats until 2019**"
      ]
    },
    {
      "cell_type": "code",
      "metadata": {
        "id": "igwetx11jR9Y"
      },
      "source": [
        "female_stats= pd.read_excel('/content/API_SL.UEM.TOTL.FE.ZS_DS2_en_excel_v2_2164152.xls')"
      ],
      "execution_count": 168,
      "outputs": []
    },
    {
      "cell_type": "code",
      "metadata": {
        "colab": {
          "base_uri": "https://localhost:8080/"
        },
        "id": "43iuu9jZ2BcR",
        "outputId": "1fc74717-146d-40a4-c4a8-5e02c6a8eca4"
      },
      "source": [
        "female_stats.columns"
      ],
      "execution_count": 169,
      "outputs": [
        {
          "output_type": "execute_result",
          "data": {
            "text/plain": [
              "Index(['Country Name', 'Country Code', 'Indicator Name', 'Indicator Code',\n",
              "       '1960', '1961', '1962', '1963', '1964', '1965', '1966', '1967', '1968',\n",
              "       '1969', '1970', '1971', '1972', '1973', '1974', '1975', '1976', '1977',\n",
              "       '1978', '1979', '1980', '1981', '1982', '1983', '1984', '1985', '1986',\n",
              "       '1987', '1988', '1989', '1990', '1991', '1992', '1993', '1994', '1995',\n",
              "       '1996', '1997', '1998', '1999', '2000', '2001', '2002', '2003', '2004',\n",
              "       '2005', '2006', '2007', '2008', '2009', '2010', '2011', '2012', '2013',\n",
              "       '2014', '2015', '2016', '2017', '2018', '2019', '2020'],\n",
              "      dtype='object')"
            ]
          },
          "metadata": {
            "tags": []
          },
          "execution_count": 169
        }
      ]
    },
    {
      "cell_type": "code",
      "metadata": {
        "id": "wzRWGpIf2E46"
      },
      "source": [
        "female_stat = female_stats.drop(columns=['1960', '1961', '1962', '1963', '1964', '1965', '1966', '1967', '1968',\n",
        "       '1969', '1970', '1971', '1972', '1973', '1974', '1975', '1976', '1977',\n",
        "       '1978', '1979', '1980', '1981', '1982', '1983', '1984', '1985', '1986',\n",
        "       '1987', '1988', '1989', '1990', '1991', '1992', '1993', '1994', '1995',\n",
        "       '1996', '1997', '1998', '1999', '2000', '2001', '2002', '2003', '2004',\n",
        "       '2005', '2006', '2007', '2008', '2009', '2010', '2011', '2012', '2013',\n",
        "       '2014', '2015', '2016', '2017', '2018'])"
      ],
      "execution_count": 170,
      "outputs": []
    },
    {
      "cell_type": "code",
      "metadata": {
        "colab": {
          "base_uri": "https://localhost:8080/",
          "height": 206
        },
        "id": "_YaapyweFMKG",
        "outputId": "82d463d7-6723-4854-a4dc-23f1e26d2f35"
      },
      "source": [
        "female_stat.head(5)"
      ],
      "execution_count": 171,
      "outputs": [
        {
          "output_type": "execute_result",
          "data": {
            "text/html": [
              "<div>\n",
              "<style scoped>\n",
              "    .dataframe tbody tr th:only-of-type {\n",
              "        vertical-align: middle;\n",
              "    }\n",
              "\n",
              "    .dataframe tbody tr th {\n",
              "        vertical-align: top;\n",
              "    }\n",
              "\n",
              "    .dataframe thead th {\n",
              "        text-align: right;\n",
              "    }\n",
              "</style>\n",
              "<table border=\"1\" class=\"dataframe\">\n",
              "  <thead>\n",
              "    <tr style=\"text-align: right;\">\n",
              "      <th></th>\n",
              "      <th>Country Name</th>\n",
              "      <th>Country Code</th>\n",
              "      <th>Indicator Name</th>\n",
              "      <th>Indicator Code</th>\n",
              "      <th>2019</th>\n",
              "      <th>2020</th>\n",
              "    </tr>\n",
              "  </thead>\n",
              "  <tbody>\n",
              "    <tr>\n",
              "      <th>0</th>\n",
              "      <td>Aruba</td>\n",
              "      <td>ABW</td>\n",
              "      <td>Unemployment, female (% of female labor force)...</td>\n",
              "      <td>SL.UEM.TOTL.FE.ZS</td>\n",
              "      <td>NaN</td>\n",
              "      <td>NaN</td>\n",
              "    </tr>\n",
              "    <tr>\n",
              "      <th>1</th>\n",
              "      <td>Afghanistan</td>\n",
              "      <td>AFG</td>\n",
              "      <td>Unemployment, female (% of female labor force)...</td>\n",
              "      <td>SL.UEM.TOTL.FE.ZS</td>\n",
              "      <td>13.81</td>\n",
              "      <td>NaN</td>\n",
              "    </tr>\n",
              "    <tr>\n",
              "      <th>2</th>\n",
              "      <td>Angola</td>\n",
              "      <td>AGO</td>\n",
              "      <td>Unemployment, female (% of female labor force)...</td>\n",
              "      <td>SL.UEM.TOTL.FE.ZS</td>\n",
              "      <td>7.22</td>\n",
              "      <td>NaN</td>\n",
              "    </tr>\n",
              "    <tr>\n",
              "      <th>3</th>\n",
              "      <td>Albania</td>\n",
              "      <td>ALB</td>\n",
              "      <td>Unemployment, female (% of female labor force)...</td>\n",
              "      <td>SL.UEM.TOTL.FE.ZS</td>\n",
              "      <td>11.31</td>\n",
              "      <td>NaN</td>\n",
              "    </tr>\n",
              "    <tr>\n",
              "      <th>4</th>\n",
              "      <td>Andorra</td>\n",
              "      <td>AND</td>\n",
              "      <td>Unemployment, female (% of female labor force)...</td>\n",
              "      <td>SL.UEM.TOTL.FE.ZS</td>\n",
              "      <td>NaN</td>\n",
              "      <td>NaN</td>\n",
              "    </tr>\n",
              "  </tbody>\n",
              "</table>\n",
              "</div>"
            ],
            "text/plain": [
              "  Country Name Country Code  ...   2019 2020\n",
              "0        Aruba          ABW  ...    NaN  NaN\n",
              "1  Afghanistan          AFG  ...  13.81  NaN\n",
              "2       Angola          AGO  ...   7.22  NaN\n",
              "3      Albania          ALB  ...  11.31  NaN\n",
              "4      Andorra          AND  ...    NaN  NaN\n",
              "\n",
              "[5 rows x 6 columns]"
            ]
          },
          "metadata": {
            "tags": []
          },
          "execution_count": 171
        }
      ]
    },
    {
      "cell_type": "code",
      "metadata": {
        "colab": {
          "base_uri": "https://localhost:8080/",
          "height": 49
        },
        "id": "ErWE_jWY3SLw",
        "outputId": "6bb396fb-950c-4064-9a6f-bb979d6d9dfe"
      },
      "source": [
        "female_stat.dropna()"
      ],
      "execution_count": 172,
      "outputs": [
        {
          "output_type": "execute_result",
          "data": {
            "text/html": [
              "<div>\n",
              "<style scoped>\n",
              "    .dataframe tbody tr th:only-of-type {\n",
              "        vertical-align: middle;\n",
              "    }\n",
              "\n",
              "    .dataframe tbody tr th {\n",
              "        vertical-align: top;\n",
              "    }\n",
              "\n",
              "    .dataframe thead th {\n",
              "        text-align: right;\n",
              "    }\n",
              "</style>\n",
              "<table border=\"1\" class=\"dataframe\">\n",
              "  <thead>\n",
              "    <tr style=\"text-align: right;\">\n",
              "      <th></th>\n",
              "      <th>Country Name</th>\n",
              "      <th>Country Code</th>\n",
              "      <th>Indicator Name</th>\n",
              "      <th>Indicator Code</th>\n",
              "      <th>2019</th>\n",
              "      <th>2020</th>\n",
              "    </tr>\n",
              "  </thead>\n",
              "  <tbody>\n",
              "  </tbody>\n",
              "</table>\n",
              "</div>"
            ],
            "text/plain": [
              "Empty DataFrame\n",
              "Columns: [Country Name, Country Code, Indicator Name, Indicator Code, 2019, 2020]\n",
              "Index: []"
            ]
          },
          "metadata": {
            "tags": []
          },
          "execution_count": 172
        }
      ]
    },
    {
      "cell_type": "code",
      "metadata": {
        "colab": {
          "base_uri": "https://localhost:8080/"
        },
        "id": "ExpHkrTKHTsw",
        "outputId": "f1995c67-1a50-4736-9fe7-812bc4047e38"
      },
      "source": [
        "max_fem_unemploy = female_stat['2019'].max()\n",
        "min_fem_unemploy = female_stat['2019'].min()\n",
        "print('max_fem_unemploy:', round(max_fem_unemploy,2),'% country:',female_stat['Country Name'].loc[female_stat['2019'] == max_fem_unemploy])\n",
        "print('min_fem_unemploy:',round(min_fem_unemploy,2),'% country:',female_stat['Country Name'].loc[female_stat['2019'] == min_fem_unemploy])\n",
        "\n"
      ],
      "execution_count": 264,
      "outputs": [
        {
          "output_type": "stream",
          "text": [
            "max_fem_unemploy: 41.14 % country: 194    West Bank and Gaza\n",
            "Name: Country Name, dtype: object\n",
            "min_fem_unemploy: 0.16 % country: 121    Cambodia\n",
            "Name: Country Name, dtype: object\n"
          ],
          "name": "stdout"
        }
      ]
    },
    {
      "cell_type": "code",
      "metadata": {
        "id": "xqAneyv9AZ02"
      },
      "source": [
        "female_groupD = female_stat[['Country Name', 'Country Code', '2019']].loc[(female_stat['2019'] >= 17)]\n",
        "#female_groupD"
      ],
      "execution_count": 259,
      "outputs": []
    },
    {
      "cell_type": "code",
      "metadata": {
        "colab": {
          "base_uri": "https://localhost:8080/",
          "height": 542
        },
        "id": "RhZS_mJ-X7Q8",
        "outputId": "7fa10e1f-10b8-4af8-9fa4-02ba1c61846c"
      },
      "source": [
        "fig = px.choropleth(female_stat, locations= \"Country Name\", \n",
        "                    locationmode=\"country names\", color= \"2019\", \n",
        "                    hover_name= \"Country Name\",\n",
        "                    color_continuous_scale=\"peach\")\n",
        "fig.update(layout_coloraxis_showscale=True)\n",
        "#fig.savefig('world-view.svg')\n",
        "fig.show()"
      ],
      "execution_count": 267,
      "outputs": [
        {
          "output_type": "display_data",
          "data": {
            "text/html": [
              "<html>\n",
              "<head><meta charset=\"utf-8\" /></head>\n",
              "<body>\n",
              "    <div>\n",
              "            <script src=\"https://cdnjs.cloudflare.com/ajax/libs/mathjax/2.7.5/MathJax.js?config=TeX-AMS-MML_SVG\"></script><script type=\"text/javascript\">if (window.MathJax) {MathJax.Hub.Config({SVG: {font: \"STIX-Web\"}});}</script>\n",
              "                <script type=\"text/javascript\">window.PlotlyConfig = {MathJaxConfig: 'local'};</script>\n",
              "        <script src=\"https://cdn.plot.ly/plotly-latest.min.js\"></script>    \n",
              "            <div id=\"6c20d0b1-1d08-4b93-a906-da7832331574\" class=\"plotly-graph-div\" style=\"height:525px; width:100%;\"></div>\n",
              "            <script type=\"text/javascript\">\n",
              "                \n",
              "                    window.PLOTLYENV=window.PLOTLYENV || {};\n",
              "                    \n",
              "                if (document.getElementById(\"6c20d0b1-1d08-4b93-a906-da7832331574\")) {\n",
              "                    Plotly.newPlot(\n",
              "                        '6c20d0b1-1d08-4b93-a906-da7832331574',\n",
              "                        [{\"coloraxis\": \"coloraxis\", \"geo\": \"geo\", \"hoverlabel\": {\"namelength\": 0}, \"hovertemplate\": \"<b>%{hovertext}</b><br><br>Country Name=%{location}<br>2019=%{z}\", \"hovertext\": [\"Aruba\", \"Afghanistan\", \"Angola\", \"Albania\", \"Andorra\", \"Arab World\", \"United Arab Emirates\", \"Argentina\", \"Armenia\", \"American Samoa\", \"Antigua and Barbuda\", \"Australia\", \"Austria\", \"Azerbaijan\", \"Burundi\", \"Belgium\", \"Benin\", \"Burkina Faso\", \"Bangladesh\", \"Bulgaria\", \"Bahrain\", \"Bahamas, The\", \"Bosnia and Herzegovina\", \"Belarus\", \"Belize\", \"Bermuda\", \"Bolivia\", \"Brazil\", \"Barbados\", \"Brunei Darussalam\", \"Bhutan\", \"Botswana\", \"Central African Republic\", \"Canada\", \"Central Europe and the Baltics\", \"Switzerland\", \"Channel Islands\", \"Chile\", \"China\", \"Cote d'Ivoire\", \"Cameroon\", \"Congo, Dem. Rep.\", \"Congo, Rep.\", \"Colombia\", \"Comoros\", \"Cabo Verde\", \"Costa Rica\", \"Caribbean small states\", \"Cuba\", \"Curacao\", \"Cayman Islands\", \"Cyprus\", \"Czech Republic\", \"Germany\", \"Djibouti\", \"Dominica\", \"Denmark\", \"Dominican Republic\", \"Algeria\", \"East Asia & Pacific (excluding high income)\", \"Early-demographic dividend\", \"East Asia & Pacific\", \"Europe & Central Asia (excluding high income)\", \"Europe & Central Asia\", \"Ecuador\", \"Egypt, Arab Rep.\", \"Euro area\", \"Eritrea\", \"Spain\", \"Estonia\", \"Ethiopia\", \"European Union\", \"Fragile and conflict affected situations\", \"Finland\", \"Fiji\", \"France\", \"Faroe Islands\", \"Micronesia, Fed. Sts.\", \"Gabon\", \"United Kingdom\", \"Georgia\", \"Ghana\", \"Gibraltar\", \"Guinea\", \"Gambia, The\", \"Guinea-Bissau\", \"Equatorial Guinea\", \"Greece\", \"Grenada\", \"Greenland\", \"Guatemala\", \"Guam\", \"Guyana\", \"High income\", \"Hong Kong SAR, China\", \"Honduras\", \"Heavily indebted poor countries (HIPC)\", \"Croatia\", \"Haiti\", \"Hungary\", \"IBRD only\", \"IDA & IBRD total\", \"IDA total\", \"IDA blend\", \"Indonesia\", \"IDA only\", \"Isle of Man\", \"India\", \"Not classified\", \"Ireland\", \"Iran, Islamic Rep.\", \"Iraq\", \"Iceland\", \"Israel\", \"Italy\", \"Jamaica\", \"Jordan\", \"Japan\", \"Kazakhstan\", \"Kenya\", \"Kyrgyz Republic\", \"Cambodia\", \"Kiribati\", \"St. Kitts and Nevis\", \"Korea, Rep.\", \"Kuwait\", \"Latin America & Caribbean (excluding high income)\", \"Lao PDR\", \"Lebanon\", \"Liberia\", \"Libya\", \"St. Lucia\", \"Latin America & Caribbean\", \"Least developed countries: UN classification\", \"Low income\", \"Liechtenstein\", \"Sri Lanka\", \"Lower middle income\", \"Low & middle income\", \"Lesotho\", \"Late-demographic dividend\", \"Lithuania\", \"Luxembourg\", \"Latvia\", \"Macao SAR, China\", \"St. Martin (French part)\", \"Morocco\", \"Monaco\", \"Moldova\", \"Madagascar\", \"Maldives\", \"Middle East & North Africa\", \"Mexico\", \"Marshall Islands\", \"Middle income\", \"North Macedonia\", \"Mali\", \"Malta\", \"Myanmar\", \"Middle East & North Africa (excluding high income)\", \"Montenegro\", \"Mongolia\", \"Northern Mariana Islands\", \"Mozambique\", \"Mauritania\", \"Mauritius\", \"Malawi\", \"Malaysia\", \"North America\", \"Namibia\", \"New Caledonia\", \"Niger\", \"Nigeria\", \"Nicaragua\", \"Netherlands\", \"Norway\", \"Nepal\", \"Nauru\", \"New Zealand\", \"OECD members\", \"Oman\", \"Other small states\", \"Pakistan\", \"Panama\", \"Peru\", \"Philippines\", \"Palau\", \"Papua New Guinea\", \"Poland\", \"Pre-demographic dividend\", \"Puerto Rico\", \"Korea, Dem. People\\u2019s Rep.\", \"Portugal\", \"Paraguay\", \"West Bank and Gaza\", \"Pacific island small states\", \"Post-demographic dividend\", \"French Polynesia\", \"Qatar\", \"Romania\", \"Russian Federation\", \"Rwanda\", \"South Asia\", \"Saudi Arabia\", \"Sudan\", \"Senegal\", \"Singapore\", \"Solomon Islands\", \"Sierra Leone\", \"El Salvador\", \"San Marino\", \"Somalia\", \"Serbia\", \"Sub-Saharan Africa (excluding high income)\", \"South Sudan\", \"Sub-Saharan Africa\", \"Small states\", \"Sao Tome and Principe\", \"Suriname\", \"Slovak Republic\", \"Slovenia\", \"Sweden\", \"Eswatini\", \"Sint Maarten (Dutch part)\", \"Seychelles\", \"Syrian Arab Republic\", \"Turks and Caicos Islands\", \"Chad\", \"East Asia & Pacific (IDA & IBRD countries)\", \"Europe & Central Asia (IDA & IBRD countries)\", \"Togo\", \"Thailand\", \"Tajikistan\", \"Turkmenistan\", \"Latin America & the Caribbean (IDA & IBRD countries)\", \"Timor-Leste\", \"Middle East & North Africa (IDA & IBRD countries)\", \"Tonga\", \"South Asia (IDA & IBRD)\", \"Sub-Saharan Africa (IDA & IBRD countries)\", \"Trinidad and Tobago\", \"Tunisia\", \"Turkey\", \"Tuvalu\", \"Tanzania\", \"Uganda\", \"Ukraine\", \"Upper middle income\", \"Uruguay\", \"United States\", \"Uzbekistan\", \"St. Vincent and the Grenadines\", \"Venezuela, RB\", \"British Virgin Islands\", \"Virgin Islands (U.S.)\", \"Vietnam\", \"Vanuatu\", \"World\", \"Samoa\", \"Kosovo\", \"Yemen, Rep.\", \"South Africa\", \"Zambia\", \"Zimbabwe\"], \"locationmode\": \"country names\", \"locations\": [\"Aruba\", \"Afghanistan\", \"Angola\", \"Albania\", \"Andorra\", \"Arab World\", \"United Arab Emirates\", \"Argentina\", \"Armenia\", \"American Samoa\", \"Antigua and Barbuda\", \"Australia\", \"Austria\", \"Azerbaijan\", \"Burundi\", \"Belgium\", \"Benin\", \"Burkina Faso\", \"Bangladesh\", \"Bulgaria\", \"Bahrain\", \"Bahamas, The\", \"Bosnia and Herzegovina\", \"Belarus\", \"Belize\", \"Bermuda\", \"Bolivia\", \"Brazil\", \"Barbados\", \"Brunei Darussalam\", \"Bhutan\", \"Botswana\", \"Central African Republic\", \"Canada\", \"Central Europe and the Baltics\", \"Switzerland\", \"Channel Islands\", \"Chile\", \"China\", \"Cote d'Ivoire\", \"Cameroon\", \"Congo, Dem. Rep.\", \"Congo, Rep.\", \"Colombia\", \"Comoros\", \"Cabo Verde\", \"Costa Rica\", \"Caribbean small states\", \"Cuba\", \"Curacao\", \"Cayman Islands\", \"Cyprus\", \"Czech Republic\", \"Germany\", \"Djibouti\", \"Dominica\", \"Denmark\", \"Dominican Republic\", \"Algeria\", \"East Asia & Pacific (excluding high income)\", \"Early-demographic dividend\", \"East Asia & Pacific\", \"Europe & Central Asia (excluding high income)\", \"Europe & Central Asia\", \"Ecuador\", \"Egypt, Arab Rep.\", \"Euro area\", \"Eritrea\", \"Spain\", \"Estonia\", \"Ethiopia\", \"European Union\", \"Fragile and conflict affected situations\", \"Finland\", \"Fiji\", \"France\", \"Faroe Islands\", \"Micronesia, Fed. Sts.\", \"Gabon\", \"United Kingdom\", \"Georgia\", \"Ghana\", \"Gibraltar\", \"Guinea\", \"Gambia, The\", \"Guinea-Bissau\", \"Equatorial Guinea\", \"Greece\", \"Grenada\", \"Greenland\", \"Guatemala\", \"Guam\", \"Guyana\", \"High income\", \"Hong Kong SAR, China\", \"Honduras\", \"Heavily indebted poor countries (HIPC)\", \"Croatia\", \"Haiti\", \"Hungary\", \"IBRD only\", \"IDA & IBRD total\", \"IDA total\", \"IDA blend\", \"Indonesia\", \"IDA only\", \"Isle of Man\", \"India\", \"Not classified\", \"Ireland\", \"Iran, Islamic Rep.\", \"Iraq\", \"Iceland\", \"Israel\", \"Italy\", \"Jamaica\", \"Jordan\", \"Japan\", \"Kazakhstan\", \"Kenya\", \"Kyrgyz Republic\", \"Cambodia\", \"Kiribati\", \"St. Kitts and Nevis\", \"Korea, Rep.\", \"Kuwait\", \"Latin America & Caribbean (excluding high income)\", \"Lao PDR\", \"Lebanon\", \"Liberia\", \"Libya\", \"St. Lucia\", \"Latin America & Caribbean\", \"Least developed countries: UN classification\", \"Low income\", \"Liechtenstein\", \"Sri Lanka\", \"Lower middle income\", \"Low & middle income\", \"Lesotho\", \"Late-demographic dividend\", \"Lithuania\", \"Luxembourg\", \"Latvia\", \"Macao SAR, China\", \"St. Martin (French part)\", \"Morocco\", \"Monaco\", \"Moldova\", \"Madagascar\", \"Maldives\", \"Middle East & North Africa\", \"Mexico\", \"Marshall Islands\", \"Middle income\", \"North Macedonia\", \"Mali\", \"Malta\", \"Myanmar\", \"Middle East & North Africa (excluding high income)\", \"Montenegro\", \"Mongolia\", \"Northern Mariana Islands\", \"Mozambique\", \"Mauritania\", \"Mauritius\", \"Malawi\", \"Malaysia\", \"North America\", \"Namibia\", \"New Caledonia\", \"Niger\", \"Nigeria\", \"Nicaragua\", \"Netherlands\", \"Norway\", \"Nepal\", \"Nauru\", \"New Zealand\", \"OECD members\", \"Oman\", \"Other small states\", \"Pakistan\", \"Panama\", \"Peru\", \"Philippines\", \"Palau\", \"Papua New Guinea\", \"Poland\", \"Pre-demographic dividend\", \"Puerto Rico\", \"Korea, Dem. People\\u2019s Rep.\", \"Portugal\", \"Paraguay\", \"West Bank and Gaza\", \"Pacific island small states\", \"Post-demographic dividend\", \"French Polynesia\", \"Qatar\", \"Romania\", \"Russian Federation\", \"Rwanda\", \"South Asia\", \"Saudi Arabia\", \"Sudan\", \"Senegal\", \"Singapore\", \"Solomon Islands\", \"Sierra Leone\", \"El Salvador\", \"San Marino\", \"Somalia\", \"Serbia\", \"Sub-Saharan Africa (excluding high income)\", \"South Sudan\", \"Sub-Saharan Africa\", \"Small states\", \"Sao Tome and Principe\", \"Suriname\", \"Slovak Republic\", \"Slovenia\", \"Sweden\", \"Eswatini\", \"Sint Maarten (Dutch part)\", \"Seychelles\", \"Syrian Arab Republic\", \"Turks and Caicos Islands\", \"Chad\", \"East Asia & Pacific (IDA & IBRD countries)\", \"Europe & Central Asia (IDA & IBRD countries)\", \"Togo\", \"Thailand\", \"Tajikistan\", \"Turkmenistan\", \"Latin America & the Caribbean (IDA & IBRD countries)\", \"Timor-Leste\", \"Middle East & North Africa (IDA & IBRD countries)\", \"Tonga\", \"South Asia (IDA & IBRD)\", \"Sub-Saharan Africa (IDA & IBRD countries)\", \"Trinidad and Tobago\", \"Tunisia\", \"Turkey\", \"Tuvalu\", \"Tanzania\", \"Uganda\", \"Ukraine\", \"Upper middle income\", \"Uruguay\", \"United States\", \"Uzbekistan\", \"St. Vincent and the Grenadines\", \"Venezuela, RB\", \"British Virgin Islands\", \"Virgin Islands (U.S.)\", \"Vietnam\", \"Vanuatu\", \"World\", \"Samoa\", \"Kosovo\", \"Yemen, Rep.\", \"South Africa\", \"Zambia\", \"Zimbabwe\"], \"name\": \"\", \"type\": \"choropleth\", \"z\": [null, 13.8100004196167, 7.21999979019165, 11.3100004196167, null, 19.869788423914127, 6.32999992370605, 10.6999998092651, 20.2700004577637, null, null, 5.1100001335144, 4.34999990463257, 5.73000001907349, 0.980000019073486, 4.92999982833862, 2.48000001907349, 4.53999996185303, 6.55000019073486, 3.86999988555908, 4.76000022888184, 10.1199998855591, 18.7299995422363, 3.5, 9.65999984741211, null, 3.53999996185303, 14.1400003433228, 10.3500003814697, 8.27000045776367, 3.01999998092651, 20.5100002288818, 4.21000003814697, 5.25, 3.853893331000875, 4.71000003814697, 7.30000019073486, 8.01000022888184, 3.98000001907349, 3.75999999046326, 3.77999997138977, 3.24000000953674, 10.2399997711182, 12.7600002288818, 10.0200004577637, 11.460000038147, 14.960000038147, 9.705205735998739, 1.79999995231628, null, null, 8.01000022888184, 2.38000011444092, 2.73000001907349, 11.2600002288818, null, 5.26999998092651, 9.60000038146973, 20.4400005340576, 3.4783826881591806, 6.365901307712012, 3.4312086266579973, 7.160195099631823, 6.774130776256419, 4.59999990463257, 21.3299999237061, 7.9374541939903125, 6.46000003814697, 16.0100002288818, 4.84999990463257, 2.6800000667572, 7.040907489603471, 6.91210705109418, 6.17000007629395, 5.32999992370605, 8.38000011444092, null, null, 27.9500007629395, 3.52999997138977, 10.1499996185303, 4.28999996185303, null, 3.17000007629395, 12.039999961853, 2.78999996185303, 8.11999988555908, 21.5499992370605, null, null, 3.42000007629395, 4.96999979019165, 16.4599990844727, 5.063300798641069, 2.34999990463257, 7.13000011444092, 4.668975724437103, 7.15999984741211, 16.25, 3.5, 5.8819412462099026, 5.654745777738264, 4.940021212300541, 5.440973401991135, 3.34999990463257, 4.749922454029129, null, 5.21000003814697, null, 4.69000005722046, 18.1200008392334, 30.5900001525879, 3.11999988555908, 3.9300000667572, 11.1000003814697, 9.9399995803833, 23.8099994659424, 2.23000001907349, 5.32000017166138, 2.75999999046326, 8.69999980926514, 0.159999996423721, null, null, 3.57999992370605, 6.1399998664856, 9.63235341265175, 0.560000002384186, 9.77000045776367, 2.17000007629395, 24.1299991607666, 17.1800003051758, 9.543110776048826, 4.742175559160066, 4.8641291213110485, null, 6.86999988555908, 5.297909661100406, 5.640392077958076, 28.1299991607666, 5.123786338569463, 5.5, 5.53000020980835, 5.42999982833862, 1.28999996185303, null, 10.4700002670288, null, 4.34999990463257, 1.70000004768372, 5.21999979019165, 17.678992129583698, 3.51999998092651, null, 5.732867850777315, 18.3899993896484, 8.19999980926514, 3.60999989509583, 0.589999973773956, 19.782122212581385, 15.6899995803833, 4.75, null, 3.5, 11.5200004577637, 9.42000007629395, 6.48000001907349, 3.64000010490417, 3.794676749826271, 18.5300006866455, 16.7099990844727, 0.370000004768372, 7.44999980926514, 5.15999984741211, 3.35999989509583, 3.39000010490417, 2.73000001907349, null, 4.38000011444092, 5.551297035091212, 7.36999988555908, 12.553327375750733, 4.32000017166138, 5.82000017166138, 3.27999997138977, 2.52999997138977, null, 1.28999996185303, 3.59999990463257, 5.7111303031934995, 6.01999998092651, 2.23000001907349, 7.15000009536743, 8.34000015258789, 41.1399993896484, 2.8230229305382903, 5.008398849664187, 13.9099998474121, 0.419999986886978, 3.38000011444092, 4.42000007629395, 1.01999998092651, 5.321565397808773, 22.9699993133545, 28.8199996948242, 7.01999998092651, 3.16000008583069, 0.620000004768372, 3.57999992370605, 3.70000004768372, null, 13.1800003051758, 11.0799999237061, 6.434204693346733, 13.1599998474121, 6.437824160288269, 11.474231871441797, 20.5100002288818, 11.3299999237061, 5.96000003814697, 4.94999980926514, 6.96000003814697, 23.9699993133545, null, null, 20.3700008392334, null, 1.85000002384186, 3.4985279654176935, 6.692998039945911, 2.67000007629395, 0.730000019073486, 5.17000007629395, 2.03999996185303, 9.673237764718493, 6.03000020980835, 19.542423823824205, 3.65000009536743, 5.321565397808773, 6.437824160288269, 3.48000001907349, 22.4099998474121, 16.3799991607666, null, 2.5, 2.21000003814697, 7.84999990463257, 5.969123443077076, 11.3400001525879, 3.60999989509583, 5.48999977111816, 16.5799999237061, 7.71999979019165, null, 8.73999977111816, 2.00999999046326, 1.41999995708466, 5.521219011061063, 9.81999969482422, null, 25.25, 30.5, 13.0900001525879, 5.55000019073486]}],\n",
              "                        {\"coloraxis\": {\"colorbar\": {\"title\": {\"text\": \"2019\"}}, \"colorscale\": [[0.0, \"rgb(253, 224, 197)\"], [0.16666666666666666, \"rgb(250, 203, 166)\"], [0.3333333333333333, \"rgb(248, 181, 139)\"], [0.5, \"rgb(245, 158, 114)\"], [0.6666666666666666, \"rgb(242, 133, 93)\"], [0.8333333333333334, \"rgb(239, 106, 76)\"], [1.0, \"rgb(235, 74, 64)\"]], \"showscale\": true}, \"geo\": {\"center\": {}, \"domain\": {\"x\": [0.0, 1.0], \"y\": [0.0, 1.0]}}, \"legend\": {\"tracegroupgap\": 0}, \"margin\": {\"t\": 60}, \"template\": {\"data\": {\"bar\": [{\"error_x\": {\"color\": \"#2a3f5f\"}, \"error_y\": {\"color\": \"#2a3f5f\"}, \"marker\": {\"line\": {\"color\": \"#E5ECF6\", \"width\": 0.5}}, \"type\": \"bar\"}], \"barpolar\": [{\"marker\": {\"line\": {\"color\": \"#E5ECF6\", \"width\": 0.5}}, \"type\": \"barpolar\"}], \"carpet\": [{\"aaxis\": {\"endlinecolor\": \"#2a3f5f\", \"gridcolor\": \"white\", \"linecolor\": \"white\", \"minorgridcolor\": \"white\", \"startlinecolor\": \"#2a3f5f\"}, \"baxis\": {\"endlinecolor\": \"#2a3f5f\", \"gridcolor\": \"white\", \"linecolor\": \"white\", \"minorgridcolor\": \"white\", \"startlinecolor\": \"#2a3f5f\"}, \"type\": \"carpet\"}], \"choropleth\": [{\"colorbar\": {\"outlinewidth\": 0, \"ticks\": \"\"}, \"type\": \"choropleth\"}], \"contour\": [{\"colorbar\": {\"outlinewidth\": 0, \"ticks\": \"\"}, \"colorscale\": [[0.0, \"#0d0887\"], [0.1111111111111111, \"#46039f\"], [0.2222222222222222, \"#7201a8\"], [0.3333333333333333, \"#9c179e\"], [0.4444444444444444, \"#bd3786\"], [0.5555555555555556, \"#d8576b\"], [0.6666666666666666, \"#ed7953\"], [0.7777777777777778, \"#fb9f3a\"], [0.8888888888888888, \"#fdca26\"], [1.0, \"#f0f921\"]], \"type\": \"contour\"}], \"contourcarpet\": [{\"colorbar\": {\"outlinewidth\": 0, \"ticks\": \"\"}, \"type\": \"contourcarpet\"}], \"heatmap\": [{\"colorbar\": {\"outlinewidth\": 0, \"ticks\": \"\"}, \"colorscale\": [[0.0, \"#0d0887\"], [0.1111111111111111, \"#46039f\"], [0.2222222222222222, \"#7201a8\"], [0.3333333333333333, \"#9c179e\"], [0.4444444444444444, \"#bd3786\"], [0.5555555555555556, \"#d8576b\"], [0.6666666666666666, \"#ed7953\"], [0.7777777777777778, \"#fb9f3a\"], [0.8888888888888888, \"#fdca26\"], [1.0, \"#f0f921\"]], \"type\": \"heatmap\"}], \"heatmapgl\": [{\"colorbar\": {\"outlinewidth\": 0, \"ticks\": \"\"}, \"colorscale\": [[0.0, \"#0d0887\"], [0.1111111111111111, \"#46039f\"], [0.2222222222222222, \"#7201a8\"], [0.3333333333333333, \"#9c179e\"], [0.4444444444444444, \"#bd3786\"], [0.5555555555555556, \"#d8576b\"], [0.6666666666666666, \"#ed7953\"], [0.7777777777777778, \"#fb9f3a\"], [0.8888888888888888, \"#fdca26\"], [1.0, \"#f0f921\"]], \"type\": \"heatmapgl\"}], \"histogram\": [{\"marker\": {\"colorbar\": {\"outlinewidth\": 0, \"ticks\": \"\"}}, \"type\": \"histogram\"}], \"histogram2d\": [{\"colorbar\": {\"outlinewidth\": 0, \"ticks\": \"\"}, \"colorscale\": [[0.0, \"#0d0887\"], [0.1111111111111111, \"#46039f\"], [0.2222222222222222, \"#7201a8\"], [0.3333333333333333, \"#9c179e\"], [0.4444444444444444, \"#bd3786\"], [0.5555555555555556, \"#d8576b\"], [0.6666666666666666, \"#ed7953\"], [0.7777777777777778, \"#fb9f3a\"], [0.8888888888888888, \"#fdca26\"], [1.0, \"#f0f921\"]], \"type\": \"histogram2d\"}], \"histogram2dcontour\": [{\"colorbar\": {\"outlinewidth\": 0, \"ticks\": \"\"}, \"colorscale\": [[0.0, \"#0d0887\"], [0.1111111111111111, \"#46039f\"], [0.2222222222222222, \"#7201a8\"], [0.3333333333333333, \"#9c179e\"], [0.4444444444444444, \"#bd3786\"], [0.5555555555555556, \"#d8576b\"], [0.6666666666666666, \"#ed7953\"], [0.7777777777777778, \"#fb9f3a\"], [0.8888888888888888, \"#fdca26\"], [1.0, \"#f0f921\"]], \"type\": \"histogram2dcontour\"}], \"mesh3d\": [{\"colorbar\": {\"outlinewidth\": 0, \"ticks\": \"\"}, \"type\": \"mesh3d\"}], \"parcoords\": [{\"line\": {\"colorbar\": {\"outlinewidth\": 0, \"ticks\": \"\"}}, \"type\": \"parcoords\"}], \"pie\": [{\"automargin\": true, \"type\": \"pie\"}], \"scatter\": [{\"marker\": {\"colorbar\": {\"outlinewidth\": 0, \"ticks\": \"\"}}, \"type\": \"scatter\"}], \"scatter3d\": [{\"line\": {\"colorbar\": {\"outlinewidth\": 0, \"ticks\": \"\"}}, \"marker\": {\"colorbar\": {\"outlinewidth\": 0, \"ticks\": \"\"}}, \"type\": \"scatter3d\"}], \"scattercarpet\": [{\"marker\": {\"colorbar\": {\"outlinewidth\": 0, \"ticks\": \"\"}}, \"type\": \"scattercarpet\"}], \"scattergeo\": [{\"marker\": {\"colorbar\": {\"outlinewidth\": 0, \"ticks\": \"\"}}, \"type\": \"scattergeo\"}], \"scattergl\": [{\"marker\": {\"colorbar\": {\"outlinewidth\": 0, \"ticks\": \"\"}}, \"type\": \"scattergl\"}], \"scattermapbox\": [{\"marker\": {\"colorbar\": {\"outlinewidth\": 0, \"ticks\": \"\"}}, \"type\": \"scattermapbox\"}], \"scatterpolar\": [{\"marker\": {\"colorbar\": {\"outlinewidth\": 0, \"ticks\": \"\"}}, \"type\": \"scatterpolar\"}], \"scatterpolargl\": [{\"marker\": {\"colorbar\": {\"outlinewidth\": 0, \"ticks\": \"\"}}, \"type\": \"scatterpolargl\"}], \"scatterternary\": [{\"marker\": {\"colorbar\": {\"outlinewidth\": 0, \"ticks\": \"\"}}, \"type\": \"scatterternary\"}], \"surface\": [{\"colorbar\": {\"outlinewidth\": 0, \"ticks\": \"\"}, \"colorscale\": [[0.0, \"#0d0887\"], [0.1111111111111111, \"#46039f\"], [0.2222222222222222, \"#7201a8\"], [0.3333333333333333, \"#9c179e\"], [0.4444444444444444, \"#bd3786\"], [0.5555555555555556, \"#d8576b\"], [0.6666666666666666, \"#ed7953\"], [0.7777777777777778, \"#fb9f3a\"], [0.8888888888888888, \"#fdca26\"], [1.0, \"#f0f921\"]], \"type\": \"surface\"}], \"table\": [{\"cells\": {\"fill\": {\"color\": \"#EBF0F8\"}, \"line\": {\"color\": \"white\"}}, \"header\": {\"fill\": {\"color\": \"#C8D4E3\"}, \"line\": {\"color\": \"white\"}}, \"type\": \"table\"}]}, \"layout\": {\"annotationdefaults\": {\"arrowcolor\": \"#2a3f5f\", \"arrowhead\": 0, \"arrowwidth\": 1}, \"coloraxis\": {\"colorbar\": {\"outlinewidth\": 0, \"ticks\": \"\"}}, \"colorscale\": {\"diverging\": [[0, \"#8e0152\"], [0.1, \"#c51b7d\"], [0.2, \"#de77ae\"], [0.3, \"#f1b6da\"], [0.4, \"#fde0ef\"], [0.5, \"#f7f7f7\"], [0.6, \"#e6f5d0\"], [0.7, \"#b8e186\"], [0.8, \"#7fbc41\"], [0.9, \"#4d9221\"], [1, \"#276419\"]], \"sequential\": [[0.0, \"#0d0887\"], [0.1111111111111111, \"#46039f\"], [0.2222222222222222, \"#7201a8\"], [0.3333333333333333, \"#9c179e\"], [0.4444444444444444, \"#bd3786\"], [0.5555555555555556, \"#d8576b\"], [0.6666666666666666, \"#ed7953\"], [0.7777777777777778, \"#fb9f3a\"], [0.8888888888888888, \"#fdca26\"], [1.0, \"#f0f921\"]], \"sequentialminus\": [[0.0, \"#0d0887\"], [0.1111111111111111, \"#46039f\"], [0.2222222222222222, \"#7201a8\"], [0.3333333333333333, \"#9c179e\"], [0.4444444444444444, \"#bd3786\"], [0.5555555555555556, \"#d8576b\"], [0.6666666666666666, \"#ed7953\"], [0.7777777777777778, \"#fb9f3a\"], [0.8888888888888888, \"#fdca26\"], [1.0, \"#f0f921\"]]}, \"colorway\": [\"#636efa\", \"#EF553B\", \"#00cc96\", \"#ab63fa\", \"#FFA15A\", \"#19d3f3\", \"#FF6692\", \"#B6E880\", \"#FF97FF\", \"#FECB52\"], \"font\": {\"color\": \"#2a3f5f\"}, \"geo\": {\"bgcolor\": \"white\", \"lakecolor\": \"white\", \"landcolor\": \"#E5ECF6\", \"showlakes\": true, \"showland\": true, \"subunitcolor\": \"white\"}, \"hoverlabel\": {\"align\": \"left\"}, \"hovermode\": \"closest\", \"mapbox\": {\"style\": \"light\"}, \"paper_bgcolor\": \"white\", \"plot_bgcolor\": \"#E5ECF6\", \"polar\": {\"angularaxis\": {\"gridcolor\": \"white\", \"linecolor\": \"white\", \"ticks\": \"\"}, \"bgcolor\": \"#E5ECF6\", \"radialaxis\": {\"gridcolor\": \"white\", \"linecolor\": \"white\", \"ticks\": \"\"}}, \"scene\": {\"xaxis\": {\"backgroundcolor\": \"#E5ECF6\", \"gridcolor\": \"white\", \"gridwidth\": 2, \"linecolor\": \"white\", \"showbackground\": true, \"ticks\": \"\", \"zerolinecolor\": \"white\"}, \"yaxis\": {\"backgroundcolor\": \"#E5ECF6\", \"gridcolor\": \"white\", \"gridwidth\": 2, \"linecolor\": \"white\", \"showbackground\": true, \"ticks\": \"\", \"zerolinecolor\": \"white\"}, \"zaxis\": {\"backgroundcolor\": \"#E5ECF6\", \"gridcolor\": \"white\", \"gridwidth\": 2, \"linecolor\": \"white\", \"showbackground\": true, \"ticks\": \"\", \"zerolinecolor\": \"white\"}}, \"shapedefaults\": {\"line\": {\"color\": \"#2a3f5f\"}}, \"ternary\": {\"aaxis\": {\"gridcolor\": \"white\", \"linecolor\": \"white\", \"ticks\": \"\"}, \"baxis\": {\"gridcolor\": \"white\", \"linecolor\": \"white\", \"ticks\": \"\"}, \"bgcolor\": \"#E5ECF6\", \"caxis\": {\"gridcolor\": \"white\", \"linecolor\": \"white\", \"ticks\": \"\"}}, \"title\": {\"x\": 0.05}, \"xaxis\": {\"automargin\": true, \"gridcolor\": \"white\", \"linecolor\": \"white\", \"ticks\": \"\", \"title\": {\"standoff\": 15}, \"zerolinecolor\": \"white\", \"zerolinewidth\": 2}, \"yaxis\": {\"automargin\": true, \"gridcolor\": \"white\", \"linecolor\": \"white\", \"ticks\": \"\", \"title\": {\"standoff\": 15}, \"zerolinecolor\": \"white\", \"zerolinewidth\": 2}}}},\n",
              "                        {\"responsive\": true}\n",
              "                    ).then(function(){\n",
              "                            \n",
              "var gd = document.getElementById('6c20d0b1-1d08-4b93-a906-da7832331574');\n",
              "var x = new MutationObserver(function (mutations, observer) {{\n",
              "        var display = window.getComputedStyle(gd).display;\n",
              "        if (!display || display === 'none') {{\n",
              "            console.log([gd, 'removed!']);\n",
              "            Plotly.purge(gd);\n",
              "            observer.disconnect();\n",
              "        }}\n",
              "}});\n",
              "\n",
              "// Listen for the removal of the full notebook cells\n",
              "var notebookContainer = gd.closest('#notebook-container');\n",
              "if (notebookContainer) {{\n",
              "    x.observe(notebookContainer, {childList: true});\n",
              "}}\n",
              "\n",
              "// Listen for the clearing of the current output cell\n",
              "var outputEl = gd.closest('.output');\n",
              "if (outputEl) {{\n",
              "    x.observe(outputEl, {childList: true});\n",
              "}}\n",
              "\n",
              "                        })\n",
              "                };\n",
              "                \n",
              "            </script>\n",
              "        </div>\n",
              "</body>\n",
              "</html>"
            ]
          },
          "metadata": {
            "tags": []
          }
        }
      ]
    },
    {
      "cell_type": "markdown",
      "metadata": {
        "id": "i-6sHS-S5kk4"
      },
      "source": [
        "# **Male Stats until 2019**"
      ]
    },
    {
      "cell_type": "code",
      "metadata": {
        "id": "-pR4UnzF5pz7"
      },
      "source": [
        "male_stats = pd.read_excel('/content/API_SL.UEM.TOTL.MA.ZS_DS2_en_excel_v2_2167154.xls')"
      ],
      "execution_count": 255,
      "outputs": []
    },
    {
      "cell_type": "code",
      "metadata": {
        "id": "QqL1g3lj5pwY"
      },
      "source": [
        "male_stat = male_stats.drop(columns=['1960', '1961', '1962', '1963', '1964', '1965', '1966', '1967', '1968',\n",
        "       '1969', '1970', '1971', '1972', '1973', '1974', '1975', '1976', '1977',\n",
        "       '1978', '1979', '1980', '1981', '1982', '1983', '1984', '1985', '1986',\n",
        "       '1987', '1988', '1989', '1990', '1991', '1992', '1993', '1994', '1995',\n",
        "       '1996', '1997', '1998', '1999', '2000', '2001', '2002', '2003', '2004',\n",
        "       '2005', '2006', '2007', '2008', '2009', '2010', '2011', '2012', '2013',\n",
        "       '2014', '2015', '2016', '2017', '2018'])"
      ],
      "execution_count": 257,
      "outputs": []
    },
    {
      "cell_type": "code",
      "metadata": {
        "colab": {
          "base_uri": "https://localhost:8080/"
        },
        "id": "aTyLu3GS5ptl",
        "outputId": "21335cf3-dd9b-4a96-dcef-d1bbf3fb4796"
      },
      "source": [
        "max_mal_unemploy = male_stat['2019'].max()\n",
        "min_mal_unemploy = male_stat['2019'].min()\n",
        "print('max_male_unemploy:', round(max_mal_unemploy,2),'% country:',male_stat['Country Name'].loc[male_stat['2019'] == max_mal_unemploy])\n",
        "print('min_male_unemploy:',round(min_mal_unemploy,2),'% country:',male_stat['Country Name'].loc[male_stat['2019'] == min_mal_unemploy])\n",
        "\n"
      ],
      "execution_count": 265,
      "outputs": [
        {
          "output_type": "stream",
          "text": [
            "max_male_unemploy: 26.78 % country: 261    South Africa\n",
            "Name: Country Name, dtype: object\n",
            "min_male_unemploy: 0.07 % country: 198    Qatar\n",
            "Name: Country Name, dtype: object\n"
          ],
          "name": "stdout"
        }
      ]
    },
    {
      "cell_type": "code",
      "metadata": {
        "colab": {
          "base_uri": "https://localhost:8080/",
          "height": 542
        },
        "id": "cCg6nofz698E",
        "outputId": "e6af2a31-ffbd-48ed-cf44-64b445f18b7c"
      },
      "source": [
        "fig = px.choropleth(male_stat, locations= \"Country Name\", \n",
        "                    locationmode=\"country names\", color= \"2019\", \n",
        "                    hover_name= \"Country Name\",\n",
        "                    color_continuous_scale=\"blues\")\n",
        "fig.update(layout_coloraxis_showscale=True)\n",
        "#fig.savefig('world-view.svg')\n",
        "fig.show()"
      ],
      "execution_count": 266,
      "outputs": [
        {
          "output_type": "display_data",
          "data": {
            "text/html": [
              "<html>\n",
              "<head><meta charset=\"utf-8\" /></head>\n",
              "<body>\n",
              "    <div>\n",
              "            <script src=\"https://cdnjs.cloudflare.com/ajax/libs/mathjax/2.7.5/MathJax.js?config=TeX-AMS-MML_SVG\"></script><script type=\"text/javascript\">if (window.MathJax) {MathJax.Hub.Config({SVG: {font: \"STIX-Web\"}});}</script>\n",
              "                <script type=\"text/javascript\">window.PlotlyConfig = {MathJaxConfig: 'local'};</script>\n",
              "        <script src=\"https://cdn.plot.ly/plotly-latest.min.js\"></script>    \n",
              "            <div id=\"c5f56d65-5f13-415c-a757-54af8d0723ba\" class=\"plotly-graph-div\" style=\"height:525px; width:100%;\"></div>\n",
              "            <script type=\"text/javascript\">\n",
              "                \n",
              "                    window.PLOTLYENV=window.PLOTLYENV || {};\n",
              "                    \n",
              "                if (document.getElementById(\"c5f56d65-5f13-415c-a757-54af8d0723ba\")) {\n",
              "                    Plotly.newPlot(\n",
              "                        'c5f56d65-5f13-415c-a757-54af8d0723ba',\n",
              "                        [{\"coloraxis\": \"coloraxis\", \"geo\": \"geo\", \"hoverlabel\": {\"namelength\": 0}, \"hovertemplate\": \"<b>%{hovertext}</b><br><br>Country Name=%{location}<br>2019=%{z}\", \"hovertext\": [\"Aruba\", \"Afghanistan\", \"Angola\", \"Albania\", \"Andorra\", \"Arab World\", \"United Arab Emirates\", \"Argentina\", \"Armenia\", \"American Samoa\", \"Antigua and Barbuda\", \"Australia\", \"Austria\", \"Azerbaijan\", \"Burundi\", \"Belgium\", \"Benin\", \"Burkina Faso\", \"Bangladesh\", \"Bulgaria\", \"Bahrain\", \"Bahamas, The\", \"Bosnia and Herzegovina\", \"Belarus\", \"Belize\", \"Bermuda\", \"Bolivia\", \"Brazil\", \"Barbados\", \"Brunei Darussalam\", \"Bhutan\", \"Botswana\", \"Central African Republic\", \"Canada\", \"Central Europe and the Baltics\", \"Switzerland\", \"Channel Islands\", \"Chile\", \"China\", \"Cote d'Ivoire\", \"Cameroon\", \"Congo, Dem. Rep.\", \"Congo, Rep.\", \"Colombia\", \"Comoros\", \"Cabo Verde\", \"Costa Rica\", \"Caribbean small states\", \"Cuba\", \"Curacao\", \"Cayman Islands\", \"Cyprus\", \"Czech Republic\", \"Germany\", \"Djibouti\", \"Dominica\", \"Denmark\", \"Dominican Republic\", \"Algeria\", \"East Asia & Pacific (excluding high income)\", \"Early-demographic dividend\", \"East Asia & Pacific\", \"Europe & Central Asia (excluding high income)\", \"Europe & Central Asia\", \"Ecuador\", \"Egypt, Arab Rep.\", \"Euro area\", \"Eritrea\", \"Spain\", \"Estonia\", \"Ethiopia\", \"European Union\", \"Fragile and conflict affected situations\", \"Finland\", \"Fiji\", \"France\", \"Faroe Islands\", \"Micronesia, Fed. Sts.\", \"Gabon\", \"United Kingdom\", \"Georgia\", \"Ghana\", \"Gibraltar\", \"Guinea\", \"Gambia, The\", \"Guinea-Bissau\", \"Equatorial Guinea\", \"Greece\", \"Grenada\", \"Greenland\", \"Guatemala\", \"Guam\", \"Guyana\", \"High income\", \"Hong Kong SAR, China\", \"Honduras\", \"Heavily indebted poor countries (HIPC)\", \"Croatia\", \"Haiti\", \"Hungary\", \"IBRD only\", \"IDA & IBRD total\", \"IDA total\", \"IDA blend\", \"Indonesia\", \"IDA only\", \"Isle of Man\", \"India\", \"Not classified\", \"Ireland\", \"Iran, Islamic Rep.\", \"Iraq\", \"Iceland\", \"Israel\", \"Italy\", \"Jamaica\", \"Jordan\", \"Japan\", \"Kazakhstan\", \"Kenya\", \"Kyrgyz Republic\", \"Cambodia\", \"Kiribati\", \"St. Kitts and Nevis\", \"Korea, Rep.\", \"Kuwait\", \"Latin America & Caribbean (excluding high income)\", \"Lao PDR\", \"Lebanon\", \"Liberia\", \"Libya\", \"St. Lucia\", \"Latin America & Caribbean\", \"Least developed countries: UN classification\", \"Low income\", \"Liechtenstein\", \"Sri Lanka\", \"Lower middle income\", \"Low & middle income\", \"Lesotho\", \"Late-demographic dividend\", \"Lithuania\", \"Luxembourg\", \"Latvia\", \"Macao SAR, China\", \"St. Martin (French part)\", \"Morocco\", \"Monaco\", \"Moldova\", \"Madagascar\", \"Maldives\", \"Middle East & North Africa\", \"Mexico\", \"Marshall Islands\", \"Middle income\", \"North Macedonia\", \"Mali\", \"Malta\", \"Myanmar\", \"Middle East & North Africa (excluding high income)\", \"Montenegro\", \"Mongolia\", \"Northern Mariana Islands\", \"Mozambique\", \"Mauritania\", \"Mauritius\", \"Malawi\", \"Malaysia\", \"North America\", \"Namibia\", \"New Caledonia\", \"Niger\", \"Nigeria\", \"Nicaragua\", \"Netherlands\", \"Norway\", \"Nepal\", \"Nauru\", \"New Zealand\", \"OECD members\", \"Oman\", \"Other small states\", \"Pakistan\", \"Panama\", \"Peru\", \"Philippines\", \"Palau\", \"Papua New Guinea\", \"Poland\", \"Pre-demographic dividend\", \"Puerto Rico\", \"Korea, Dem. People\\u2019s Rep.\", \"Portugal\", \"Paraguay\", \"West Bank and Gaza\", \"Pacific island small states\", \"Post-demographic dividend\", \"French Polynesia\", \"Qatar\", \"Romania\", \"Russian Federation\", \"Rwanda\", \"South Asia\", \"Saudi Arabia\", \"Sudan\", \"Senegal\", \"Singapore\", \"Solomon Islands\", \"Sierra Leone\", \"El Salvador\", \"San Marino\", \"Somalia\", \"Serbia\", \"Sub-Saharan Africa (excluding high income)\", \"South Sudan\", \"Sub-Saharan Africa\", \"Small states\", \"Sao Tome and Principe\", \"Suriname\", \"Slovak Republic\", \"Slovenia\", \"Sweden\", \"Eswatini\", \"Sint Maarten (Dutch part)\", \"Seychelles\", \"Syrian Arab Republic\", \"Turks and Caicos Islands\", \"Chad\", \"East Asia & Pacific (IDA & IBRD countries)\", \"Europe & Central Asia (IDA & IBRD countries)\", \"Togo\", \"Thailand\", \"Tajikistan\", \"Turkmenistan\", \"Latin America & the Caribbean (IDA & IBRD countries)\", \"Timor-Leste\", \"Middle East & North Africa (IDA & IBRD countries)\", \"Tonga\", \"South Asia (IDA & IBRD)\", \"Sub-Saharan Africa (IDA & IBRD countries)\", \"Trinidad and Tobago\", \"Tunisia\", \"Turkey\", \"Tuvalu\", \"Tanzania\", \"Uganda\", \"Ukraine\", \"Upper middle income\", \"Uruguay\", \"United States\", \"Uzbekistan\", \"St. Vincent and the Grenadines\", \"Venezuela, RB\", \"British Virgin Islands\", \"Virgin Islands (U.S.)\", \"Vietnam\", \"Vanuatu\", \"World\", \"Samoa\", \"Kosovo\", \"Yemen, Rep.\", \"South Africa\", \"Zambia\", \"Zimbabwe\"], \"locationmode\": \"country names\", \"locations\": [\"Aruba\", \"Afghanistan\", \"Angola\", \"Albania\", \"Andorra\", \"Arab World\", \"United Arab Emirates\", \"Argentina\", \"Armenia\", \"American Samoa\", \"Antigua and Barbuda\", \"Australia\", \"Austria\", \"Azerbaijan\", \"Burundi\", \"Belgium\", \"Benin\", \"Burkina Faso\", \"Bangladesh\", \"Bulgaria\", \"Bahrain\", \"Bahamas, The\", \"Bosnia and Herzegovina\", \"Belarus\", \"Belize\", \"Bermuda\", \"Bolivia\", \"Brazil\", \"Barbados\", \"Brunei Darussalam\", \"Bhutan\", \"Botswana\", \"Central African Republic\", \"Canada\", \"Central Europe and the Baltics\", \"Switzerland\", \"Channel Islands\", \"Chile\", \"China\", \"Cote d'Ivoire\", \"Cameroon\", \"Congo, Dem. Rep.\", \"Congo, Rep.\", \"Colombia\", \"Comoros\", \"Cabo Verde\", \"Costa Rica\", \"Caribbean small states\", \"Cuba\", \"Curacao\", \"Cayman Islands\", \"Cyprus\", \"Czech Republic\", \"Germany\", \"Djibouti\", \"Dominica\", \"Denmark\", \"Dominican Republic\", \"Algeria\", \"East Asia & Pacific (excluding high income)\", \"Early-demographic dividend\", \"East Asia & Pacific\", \"Europe & Central Asia (excluding high income)\", \"Europe & Central Asia\", \"Ecuador\", \"Egypt, Arab Rep.\", \"Euro area\", \"Eritrea\", \"Spain\", \"Estonia\", \"Ethiopia\", \"European Union\", \"Fragile and conflict affected situations\", \"Finland\", \"Fiji\", \"France\", \"Faroe Islands\", \"Micronesia, Fed. Sts.\", \"Gabon\", \"United Kingdom\", \"Georgia\", \"Ghana\", \"Gibraltar\", \"Guinea\", \"Gambia, The\", \"Guinea-Bissau\", \"Equatorial Guinea\", \"Greece\", \"Grenada\", \"Greenland\", \"Guatemala\", \"Guam\", \"Guyana\", \"High income\", \"Hong Kong SAR, China\", \"Honduras\", \"Heavily indebted poor countries (HIPC)\", \"Croatia\", \"Haiti\", \"Hungary\", \"IBRD only\", \"IDA & IBRD total\", \"IDA total\", \"IDA blend\", \"Indonesia\", \"IDA only\", \"Isle of Man\", \"India\", \"Not classified\", \"Ireland\", \"Iran, Islamic Rep.\", \"Iraq\", \"Iceland\", \"Israel\", \"Italy\", \"Jamaica\", \"Jordan\", \"Japan\", \"Kazakhstan\", \"Kenya\", \"Kyrgyz Republic\", \"Cambodia\", \"Kiribati\", \"St. Kitts and Nevis\", \"Korea, Rep.\", \"Kuwait\", \"Latin America & Caribbean (excluding high income)\", \"Lao PDR\", \"Lebanon\", \"Liberia\", \"Libya\", \"St. Lucia\", \"Latin America & Caribbean\", \"Least developed countries: UN classification\", \"Low income\", \"Liechtenstein\", \"Sri Lanka\", \"Lower middle income\", \"Low & middle income\", \"Lesotho\", \"Late-demographic dividend\", \"Lithuania\", \"Luxembourg\", \"Latvia\", \"Macao SAR, China\", \"St. Martin (French part)\", \"Morocco\", \"Monaco\", \"Moldova\", \"Madagascar\", \"Maldives\", \"Middle East & North Africa\", \"Mexico\", \"Marshall Islands\", \"Middle income\", \"North Macedonia\", \"Mali\", \"Malta\", \"Myanmar\", \"Middle East & North Africa (excluding high income)\", \"Montenegro\", \"Mongolia\", \"Northern Mariana Islands\", \"Mozambique\", \"Mauritania\", \"Mauritius\", \"Malawi\", \"Malaysia\", \"North America\", \"Namibia\", \"New Caledonia\", \"Niger\", \"Nigeria\", \"Nicaragua\", \"Netherlands\", \"Norway\", \"Nepal\", \"Nauru\", \"New Zealand\", \"OECD members\", \"Oman\", \"Other small states\", \"Pakistan\", \"Panama\", \"Peru\", \"Philippines\", \"Palau\", \"Papua New Guinea\", \"Poland\", \"Pre-demographic dividend\", \"Puerto Rico\", \"Korea, Dem. People\\u2019s Rep.\", \"Portugal\", \"Paraguay\", \"West Bank and Gaza\", \"Pacific island small states\", \"Post-demographic dividend\", \"French Polynesia\", \"Qatar\", \"Romania\", \"Russian Federation\", \"Rwanda\", \"South Asia\", \"Saudi Arabia\", \"Sudan\", \"Senegal\", \"Singapore\", \"Solomon Islands\", \"Sierra Leone\", \"El Salvador\", \"San Marino\", \"Somalia\", \"Serbia\", \"Sub-Saharan Africa (excluding high income)\", \"South Sudan\", \"Sub-Saharan Africa\", \"Small states\", \"Sao Tome and Principe\", \"Suriname\", \"Slovak Republic\", \"Slovenia\", \"Sweden\", \"Eswatini\", \"Sint Maarten (Dutch part)\", \"Seychelles\", \"Syrian Arab Republic\", \"Turks and Caicos Islands\", \"Chad\", \"East Asia & Pacific (IDA & IBRD countries)\", \"Europe & Central Asia (IDA & IBRD countries)\", \"Togo\", \"Thailand\", \"Tajikistan\", \"Turkmenistan\", \"Latin America & the Caribbean (IDA & IBRD countries)\", \"Timor-Leste\", \"Middle East & North Africa (IDA & IBRD countries)\", \"Tonga\", \"South Asia (IDA & IBRD)\", \"Sub-Saharan Africa (IDA & IBRD countries)\", \"Trinidad and Tobago\", \"Tunisia\", \"Turkey\", \"Tuvalu\", \"Tanzania\", \"Uganda\", \"Ukraine\", \"Upper middle income\", \"Uruguay\", \"United States\", \"Uzbekistan\", \"St. Vincent and the Grenadines\", \"Venezuela, RB\", \"British Virgin Islands\", \"Virgin Islands (U.S.)\", \"Vietnam\", \"Vanuatu\", \"World\", \"Samoa\", \"Kosovo\", \"Yemen, Rep.\", \"South Africa\", \"Zambia\", \"Zimbabwe\"], \"name\": \"\", \"type\": \"choropleth\", \"z\": [null, 10.1899995803833, 6.63000011444092, 11.5799999237061, null, 7.736826372814056, 1.41999995708466, 9.1899995803833, 17.6499996185303, null, null, 5.21000003814697, 4.6100001335144, 4.01000022888184, 1.89999997615814, 5.73000001907349, 2.17000007629395, 4.69000005722046, 3.20000004768372, 4.53999996185303, 0.75, 10.0900001525879, 13.6199998855591, 5.88000011444092, 4.42999982833862, null, 3.39000010490417, 10.1999998092651, 9.86999988555908, 5.96000003814697, 1.75, 14.0500001907349, 3.89000010490417, 6.03000020980835, 3.72009086537473, 4.11999988555908, 6.96000003814697, 6.76000022888184, 5.07999992370605, 2.75999999046326, 2.90000009536743, 4.96000003814697, 8.97999954223633, 7.88000011444092, 6.28999996185303, 12.5500001907349, 9.13000011444092, 6.710717889116415, 1.5900000333786, null, null, 6.28000020980835, 1.72000002861023, 3.5, 10.7700004577637, null, 4.80000019073486, 4.1100001335144, 9.67000007629395, 4.288130038671858, 5.273673512125009, 4.185450114863233, 7.395972800457386, 6.615368112802193, 3.25999999046326, 6.73000001907349, 7.23370283522068, 6.23999977111816, 12.460000038147, 4.07999992370605, 1.48000001907349, 6.417700288028207, 6.858747677344672, 7.17999982833862, 3.50999999046326, 8.5, null, null, 14.1099996566772, 3.92000007629395, 12.789999961853, 3.97000002861023, null, 5.30000019073486, 6.5, 2.78999996185303, 7.84999990463257, 14.0200004577637, null, null, 1.83000004291534, 6.11999988555908, 12.2600002288818, 4.572506569285857, 3.54999995231628, 4.59999990463257, 4.1998920170110505, 6.15000009536743, 10.9099998474121, 3.35999989509583, 5.6701538057259935, 5.413702297437084, 4.488691556566126, 5.431397420360509, 3.79999995231628, 4.0192864455172685, null, 5.28000020980835, null, 5.17000007629395, 9.46000003814697, 10.0, 3.85999989509583, 3.69000005722046, 9.10000038146973, 5.82999992370605, 15.289999961853, 2.53999996185303, 4.32000017166138, 2.4300000667572, 5.48000001907349, 0.100000001490116, null, null, 3.86999988555908, 1.1599999666214, 6.87218068016016, 0.680000007152557, 4.84000015258789, 3.53999996185303, 15.3500003814697, 14.0900001525879, 6.8604137370396225, 4.029501237609582, 4.761242883637046, null, 2.95000004768372, 4.938660213833317, 5.41682399187051, 20.3099994659424, 5.292105593506521, 7.03000020980835, 5.65000009536743, 7.19999980926514, 2.07999992370605, null, 8.53999996185303, null, 5.80000019073486, 1.62999999523163, 5.96999979019165, 7.585425525507222, 3.46000003814697, null, 5.475802881519023, 16.4799995422363, 6.53000020980835, 3.24000000953674, 0.439999997615814, 9.117706544071853, 14.6800003051758, 5.76999998092651, null, 2.84999990463257, 9.5, 4.34999990463257, 4.69000005722046, 3.09999990463257, 3.9703355043200275, 20.9400005340576, 14.3900003433228, 0.529999971389771, 9.35000038146973, 5.11999988555908, 3.40000009536743, 3.95000004768372, 3.0, null, 3.78999996185303, 5.2305535382842265, 0.829999983310699, 7.107199994015294, 3.89000010490417, 3.99000000953674, 2.8199999332428, 2.04999995231628, null, 3.40000009536743, 3.01999998092651, 5.862303168178292, 10.0699996948242, 2.97000002861023, 5.80000019073486, 5.40000009536743, 21.3199996948242, 2.582535890154717, 4.921207790014357, 11.8199996948242, 0.0700000002980232, 4.30999994277954, 4.76000022888184, 0.949999988079071, 4.949702541206161, 2.97000002861023, 11.4399995803833, 6.09000015258789, 3.05999994277954, 0.589999973773956, 5.1399998664856, 4.15000009536743, null, 12.6800003051758, 9.85000038146973, 6.138717276663119, 10.8900003433228, 6.1358788622681, 6.825546693999726, 8.8100004196167, 4.19999980926514, 5.59000015258789, 4.01000022888184, 6.71999979019165, 20.6499996185303, null, null, 5.71000003814697, null, 1.95000004768372, 4.306299597022219, 6.873190842491257, 4.48000001907349, 0.699999988079071, 7.53000020980835, 4.8600001335144, 6.937936465605588, 3.0699999332428, 8.986023166111215, 2.55999994277954, 4.949702541206161, 6.1358788622681, 3.46000003814697, 12.3900003433228, 12.3100004196167, null, 1.46000003814697, 1.24000000953674, 8.5, 5.967960720577067, 7.69000005722046, 3.72000002861023, 5.75, 20.0699996948242, 6.82999992370605, null, 7.46999979019165, 2.0699999332428, 1.89999997615814, 5.27735399804796, 7.3899998664856, null, 11.8500003814697, 26.7800006866455, 10.8100004196167, 4.46000003814697]}],\n",
              "                        {\"coloraxis\": {\"colorbar\": {\"title\": {\"text\": \"2019\"}}, \"colorscale\": [[0.0, \"rgb(247,251,255)\"], [0.125, \"rgb(222,235,247)\"], [0.25, \"rgb(198,219,239)\"], [0.375, \"rgb(158,202,225)\"], [0.5, \"rgb(107,174,214)\"], [0.625, \"rgb(66,146,198)\"], [0.75, \"rgb(33,113,181)\"], [0.875, \"rgb(8,81,156)\"], [1.0, \"rgb(8,48,107)\"]], \"showscale\": true}, \"geo\": {\"center\": {}, \"domain\": {\"x\": [0.0, 1.0], \"y\": [0.0, 1.0]}}, \"legend\": {\"tracegroupgap\": 0}, \"margin\": {\"t\": 60}, \"template\": {\"data\": {\"bar\": [{\"error_x\": {\"color\": \"#2a3f5f\"}, \"error_y\": {\"color\": \"#2a3f5f\"}, \"marker\": {\"line\": {\"color\": \"#E5ECF6\", \"width\": 0.5}}, \"type\": \"bar\"}], \"barpolar\": [{\"marker\": {\"line\": {\"color\": \"#E5ECF6\", \"width\": 0.5}}, \"type\": \"barpolar\"}], \"carpet\": [{\"aaxis\": {\"endlinecolor\": \"#2a3f5f\", \"gridcolor\": \"white\", \"linecolor\": \"white\", \"minorgridcolor\": \"white\", \"startlinecolor\": \"#2a3f5f\"}, \"baxis\": {\"endlinecolor\": \"#2a3f5f\", \"gridcolor\": \"white\", \"linecolor\": \"white\", \"minorgridcolor\": \"white\", \"startlinecolor\": \"#2a3f5f\"}, \"type\": \"carpet\"}], \"choropleth\": [{\"colorbar\": {\"outlinewidth\": 0, \"ticks\": \"\"}, \"type\": \"choropleth\"}], \"contour\": [{\"colorbar\": {\"outlinewidth\": 0, \"ticks\": \"\"}, \"colorscale\": [[0.0, \"#0d0887\"], [0.1111111111111111, \"#46039f\"], [0.2222222222222222, \"#7201a8\"], [0.3333333333333333, \"#9c179e\"], [0.4444444444444444, \"#bd3786\"], [0.5555555555555556, \"#d8576b\"], [0.6666666666666666, \"#ed7953\"], [0.7777777777777778, \"#fb9f3a\"], [0.8888888888888888, \"#fdca26\"], [1.0, \"#f0f921\"]], \"type\": \"contour\"}], \"contourcarpet\": [{\"colorbar\": {\"outlinewidth\": 0, \"ticks\": \"\"}, \"type\": \"contourcarpet\"}], \"heatmap\": [{\"colorbar\": {\"outlinewidth\": 0, \"ticks\": \"\"}, \"colorscale\": [[0.0, \"#0d0887\"], [0.1111111111111111, \"#46039f\"], [0.2222222222222222, \"#7201a8\"], [0.3333333333333333, \"#9c179e\"], [0.4444444444444444, \"#bd3786\"], [0.5555555555555556, \"#d8576b\"], [0.6666666666666666, \"#ed7953\"], [0.7777777777777778, \"#fb9f3a\"], [0.8888888888888888, \"#fdca26\"], [1.0, \"#f0f921\"]], \"type\": \"heatmap\"}], \"heatmapgl\": [{\"colorbar\": {\"outlinewidth\": 0, \"ticks\": \"\"}, \"colorscale\": [[0.0, \"#0d0887\"], [0.1111111111111111, \"#46039f\"], [0.2222222222222222, \"#7201a8\"], [0.3333333333333333, \"#9c179e\"], [0.4444444444444444, \"#bd3786\"], [0.5555555555555556, \"#d8576b\"], [0.6666666666666666, \"#ed7953\"], [0.7777777777777778, \"#fb9f3a\"], [0.8888888888888888, \"#fdca26\"], [1.0, \"#f0f921\"]], \"type\": \"heatmapgl\"}], \"histogram\": [{\"marker\": {\"colorbar\": {\"outlinewidth\": 0, \"ticks\": \"\"}}, \"type\": \"histogram\"}], \"histogram2d\": [{\"colorbar\": {\"outlinewidth\": 0, \"ticks\": \"\"}, \"colorscale\": [[0.0, \"#0d0887\"], [0.1111111111111111, \"#46039f\"], [0.2222222222222222, \"#7201a8\"], [0.3333333333333333, \"#9c179e\"], [0.4444444444444444, \"#bd3786\"], [0.5555555555555556, \"#d8576b\"], [0.6666666666666666, \"#ed7953\"], [0.7777777777777778, \"#fb9f3a\"], [0.8888888888888888, \"#fdca26\"], [1.0, \"#f0f921\"]], \"type\": \"histogram2d\"}], \"histogram2dcontour\": [{\"colorbar\": {\"outlinewidth\": 0, \"ticks\": \"\"}, \"colorscale\": [[0.0, \"#0d0887\"], [0.1111111111111111, \"#46039f\"], [0.2222222222222222, \"#7201a8\"], [0.3333333333333333, \"#9c179e\"], [0.4444444444444444, \"#bd3786\"], [0.5555555555555556, \"#d8576b\"], [0.6666666666666666, \"#ed7953\"], [0.7777777777777778, \"#fb9f3a\"], [0.8888888888888888, \"#fdca26\"], [1.0, \"#f0f921\"]], \"type\": \"histogram2dcontour\"}], \"mesh3d\": [{\"colorbar\": {\"outlinewidth\": 0, \"ticks\": \"\"}, \"type\": \"mesh3d\"}], \"parcoords\": [{\"line\": {\"colorbar\": {\"outlinewidth\": 0, \"ticks\": \"\"}}, \"type\": \"parcoords\"}], \"pie\": [{\"automargin\": true, \"type\": \"pie\"}], \"scatter\": [{\"marker\": {\"colorbar\": {\"outlinewidth\": 0, \"ticks\": \"\"}}, \"type\": \"scatter\"}], \"scatter3d\": [{\"line\": {\"colorbar\": {\"outlinewidth\": 0, \"ticks\": \"\"}}, \"marker\": {\"colorbar\": {\"outlinewidth\": 0, \"ticks\": \"\"}}, \"type\": \"scatter3d\"}], \"scattercarpet\": [{\"marker\": {\"colorbar\": {\"outlinewidth\": 0, \"ticks\": \"\"}}, \"type\": \"scattercarpet\"}], \"scattergeo\": [{\"marker\": {\"colorbar\": {\"outlinewidth\": 0, \"ticks\": \"\"}}, \"type\": \"scattergeo\"}], \"scattergl\": [{\"marker\": {\"colorbar\": {\"outlinewidth\": 0, \"ticks\": \"\"}}, \"type\": \"scattergl\"}], \"scattermapbox\": [{\"marker\": {\"colorbar\": {\"outlinewidth\": 0, \"ticks\": \"\"}}, \"type\": \"scattermapbox\"}], \"scatterpolar\": [{\"marker\": {\"colorbar\": {\"outlinewidth\": 0, \"ticks\": \"\"}}, \"type\": \"scatterpolar\"}], \"scatterpolargl\": [{\"marker\": {\"colorbar\": {\"outlinewidth\": 0, \"ticks\": \"\"}}, \"type\": \"scatterpolargl\"}], \"scatterternary\": [{\"marker\": {\"colorbar\": {\"outlinewidth\": 0, \"ticks\": \"\"}}, \"type\": \"scatterternary\"}], \"surface\": [{\"colorbar\": {\"outlinewidth\": 0, \"ticks\": \"\"}, \"colorscale\": [[0.0, \"#0d0887\"], [0.1111111111111111, \"#46039f\"], [0.2222222222222222, \"#7201a8\"], [0.3333333333333333, \"#9c179e\"], [0.4444444444444444, \"#bd3786\"], [0.5555555555555556, \"#d8576b\"], [0.6666666666666666, \"#ed7953\"], [0.7777777777777778, \"#fb9f3a\"], [0.8888888888888888, \"#fdca26\"], [1.0, \"#f0f921\"]], \"type\": \"surface\"}], \"table\": [{\"cells\": {\"fill\": {\"color\": \"#EBF0F8\"}, \"line\": {\"color\": \"white\"}}, \"header\": {\"fill\": {\"color\": \"#C8D4E3\"}, \"line\": {\"color\": \"white\"}}, \"type\": \"table\"}]}, \"layout\": {\"annotationdefaults\": {\"arrowcolor\": \"#2a3f5f\", \"arrowhead\": 0, \"arrowwidth\": 1}, \"coloraxis\": {\"colorbar\": {\"outlinewidth\": 0, \"ticks\": \"\"}}, \"colorscale\": {\"diverging\": [[0, \"#8e0152\"], [0.1, \"#c51b7d\"], [0.2, \"#de77ae\"], [0.3, \"#f1b6da\"], [0.4, \"#fde0ef\"], [0.5, \"#f7f7f7\"], [0.6, \"#e6f5d0\"], [0.7, \"#b8e186\"], [0.8, \"#7fbc41\"], [0.9, \"#4d9221\"], [1, \"#276419\"]], \"sequential\": [[0.0, \"#0d0887\"], [0.1111111111111111, \"#46039f\"], [0.2222222222222222, \"#7201a8\"], [0.3333333333333333, \"#9c179e\"], [0.4444444444444444, \"#bd3786\"], [0.5555555555555556, \"#d8576b\"], [0.6666666666666666, \"#ed7953\"], [0.7777777777777778, \"#fb9f3a\"], [0.8888888888888888, \"#fdca26\"], [1.0, \"#f0f921\"]], \"sequentialminus\": [[0.0, \"#0d0887\"], [0.1111111111111111, \"#46039f\"], [0.2222222222222222, \"#7201a8\"], [0.3333333333333333, \"#9c179e\"], [0.4444444444444444, \"#bd3786\"], [0.5555555555555556, \"#d8576b\"], [0.6666666666666666, \"#ed7953\"], [0.7777777777777778, \"#fb9f3a\"], [0.8888888888888888, \"#fdca26\"], [1.0, \"#f0f921\"]]}, \"colorway\": [\"#636efa\", \"#EF553B\", \"#00cc96\", \"#ab63fa\", \"#FFA15A\", \"#19d3f3\", \"#FF6692\", \"#B6E880\", \"#FF97FF\", \"#FECB52\"], \"font\": {\"color\": \"#2a3f5f\"}, \"geo\": {\"bgcolor\": \"white\", \"lakecolor\": \"white\", \"landcolor\": \"#E5ECF6\", \"showlakes\": true, \"showland\": true, \"subunitcolor\": \"white\"}, \"hoverlabel\": {\"align\": \"left\"}, \"hovermode\": \"closest\", \"mapbox\": {\"style\": \"light\"}, \"paper_bgcolor\": \"white\", \"plot_bgcolor\": \"#E5ECF6\", \"polar\": {\"angularaxis\": {\"gridcolor\": \"white\", \"linecolor\": \"white\", \"ticks\": \"\"}, \"bgcolor\": \"#E5ECF6\", \"radialaxis\": {\"gridcolor\": \"white\", \"linecolor\": \"white\", \"ticks\": \"\"}}, \"scene\": {\"xaxis\": {\"backgroundcolor\": \"#E5ECF6\", \"gridcolor\": \"white\", \"gridwidth\": 2, \"linecolor\": \"white\", \"showbackground\": true, \"ticks\": \"\", \"zerolinecolor\": \"white\"}, \"yaxis\": {\"backgroundcolor\": \"#E5ECF6\", \"gridcolor\": \"white\", \"gridwidth\": 2, \"linecolor\": \"white\", \"showbackground\": true, \"ticks\": \"\", \"zerolinecolor\": \"white\"}, \"zaxis\": {\"backgroundcolor\": \"#E5ECF6\", \"gridcolor\": \"white\", \"gridwidth\": 2, \"linecolor\": \"white\", \"showbackground\": true, \"ticks\": \"\", \"zerolinecolor\": \"white\"}}, \"shapedefaults\": {\"line\": {\"color\": \"#2a3f5f\"}}, \"ternary\": {\"aaxis\": {\"gridcolor\": \"white\", \"linecolor\": \"white\", \"ticks\": \"\"}, \"baxis\": {\"gridcolor\": \"white\", \"linecolor\": \"white\", \"ticks\": \"\"}, \"bgcolor\": \"#E5ECF6\", \"caxis\": {\"gridcolor\": \"white\", \"linecolor\": \"white\", \"ticks\": \"\"}}, \"title\": {\"x\": 0.05}, \"xaxis\": {\"automargin\": true, \"gridcolor\": \"white\", \"linecolor\": \"white\", \"ticks\": \"\", \"title\": {\"standoff\": 15}, \"zerolinecolor\": \"white\", \"zerolinewidth\": 2}, \"yaxis\": {\"automargin\": true, \"gridcolor\": \"white\", \"linecolor\": \"white\", \"ticks\": \"\", \"title\": {\"standoff\": 15}, \"zerolinecolor\": \"white\", \"zerolinewidth\": 2}}}},\n",
              "                        {\"responsive\": true}\n",
              "                    ).then(function(){\n",
              "                            \n",
              "var gd = document.getElementById('c5f56d65-5f13-415c-a757-54af8d0723ba');\n",
              "var x = new MutationObserver(function (mutations, observer) {{\n",
              "        var display = window.getComputedStyle(gd).display;\n",
              "        if (!display || display === 'none') {{\n",
              "            console.log([gd, 'removed!']);\n",
              "            Plotly.purge(gd);\n",
              "            observer.disconnect();\n",
              "        }}\n",
              "}});\n",
              "\n",
              "// Listen for the removal of the full notebook cells\n",
              "var notebookContainer = gd.closest('#notebook-container');\n",
              "if (notebookContainer) {{\n",
              "    x.observe(notebookContainer, {childList: true});\n",
              "}}\n",
              "\n",
              "// Listen for the clearing of the current output cell\n",
              "var outputEl = gd.closest('.output');\n",
              "if (outputEl) {{\n",
              "    x.observe(outputEl, {childList: true});\n",
              "}}\n",
              "\n",
              "                        })\n",
              "                };\n",
              "                \n",
              "            </script>\n",
              "        </div>\n",
              "</body>\n",
              "</html>"
            ]
          },
          "metadata": {
            "tags": []
          }
        }
      ]
    },
    {
      "cell_type": "markdown",
      "metadata": {
        "id": "8ig3jKWT7XRL"
      },
      "source": [
        "# **Trends in unemplyoment rate in 2020**"
      ]
    },
    {
      "cell_type": "code",
      "metadata": {
        "colab": {
          "base_uri": "https://localhost:8080/"
        },
        "id": "T2tGOt204Tnc",
        "outputId": "d6d8e78d-be50-421b-809d-60e9d13c3a2d"
      },
      "source": [
        "data.columns"
      ],
      "execution_count": 174,
      "outputs": [
        {
          "output_type": "execute_result",
          "data": {
            "text/plain": [
              "Index(['Country Name', 'Country Code', 'Indicator Name', 'Indicator Code',\n",
              "       '1960', '1961', '1962', '1963', '1964', '1965', '1966', '1967', '1968',\n",
              "       '1969', '1970', '1971', '1972', '1973', '1974', '1975', '1976', '1977',\n",
              "       '1978', '1979', '1980', '1981', '1982', '1983', '1984', '1985', '1986',\n",
              "       '1987', '1988', '1989', '1990', '1991', '1992', '1993', '1994', '1995',\n",
              "       '1996', '1997', '1998', '1999', '2000', '2001', '2002', '2003', '2004',\n",
              "       '2005', '2006', '2007', '2008', '2009', '2010', '2011', '2012', '2013',\n",
              "       '2014', '2015', '2016', '2017', '2018', '2019', '2020'],\n",
              "      dtype='object')"
            ]
          },
          "metadata": {
            "tags": []
          },
          "execution_count": 174
        }
      ]
    },
    {
      "cell_type": "code",
      "metadata": {
        "id": "84F2am9R5qUP"
      },
      "source": [
        "data_new = data.drop(columns=['1960', '1961', '1962', '1963', '1964', '1965', '1966', '1967', '1968',\n",
        "       '1969', '1970', '1971', '1972', '1973', '1974', '1975', '1976', '1977',\n",
        "       '1978', '1979', '1980', '1981', '1982', '1983', '1984', '1985', '1986',\n",
        "       '1987', '1988', '1989', '1990', '1991', '1992', '1993', '1994', '1995',\n",
        "       '1996', '1997', '1998', '1999', '2000', '2001', '2002', '2003', '2004',\n",
        "       '2005', '2006', '2007', '2008', '2009', '2010', '2011', '2012', '2013',\n",
        "       '2014', '2015', '2016', '2017', '2018'])"
      ],
      "execution_count": 175,
      "outputs": []
    },
    {
      "cell_type": "code",
      "metadata": {
        "colab": {
          "base_uri": "https://localhost:8080/",
          "height": 363
        },
        "id": "__SwCsQr55fu",
        "outputId": "fe27e0df-cd7e-4bf7-a853-1395a12705c5"
      },
      "source": [
        "data_new.head(10)"
      ],
      "execution_count": 176,
      "outputs": [
        {
          "output_type": "execute_result",
          "data": {
            "text/html": [
              "<div>\n",
              "<style scoped>\n",
              "    .dataframe tbody tr th:only-of-type {\n",
              "        vertical-align: middle;\n",
              "    }\n",
              "\n",
              "    .dataframe tbody tr th {\n",
              "        vertical-align: top;\n",
              "    }\n",
              "\n",
              "    .dataframe thead th {\n",
              "        text-align: right;\n",
              "    }\n",
              "</style>\n",
              "<table border=\"1\" class=\"dataframe\">\n",
              "  <thead>\n",
              "    <tr style=\"text-align: right;\">\n",
              "      <th></th>\n",
              "      <th>Country Name</th>\n",
              "      <th>Country Code</th>\n",
              "      <th>Indicator Name</th>\n",
              "      <th>Indicator Code</th>\n",
              "      <th>2019</th>\n",
              "      <th>2020</th>\n",
              "    </tr>\n",
              "  </thead>\n",
              "  <tbody>\n",
              "    <tr>\n",
              "      <th>0</th>\n",
              "      <td>Aruba</td>\n",
              "      <td>ABW</td>\n",
              "      <td>Unemployment, total (% of total labor force) (...</td>\n",
              "      <td>SL.UEM.TOTL.ZS</td>\n",
              "      <td>NaN</td>\n",
              "      <td>NaN</td>\n",
              "    </tr>\n",
              "    <tr>\n",
              "      <th>1</th>\n",
              "      <td>Afghanistan</td>\n",
              "      <td>AFG</td>\n",
              "      <td>Unemployment, total (% of total labor force) (...</td>\n",
              "      <td>SL.UEM.TOTL.ZS</td>\n",
              "      <td>10.980000</td>\n",
              "      <td>11.730000</td>\n",
              "    </tr>\n",
              "    <tr>\n",
              "      <th>2</th>\n",
              "      <td>Angola</td>\n",
              "      <td>AGO</td>\n",
              "      <td>Unemployment, total (% of total labor force) (...</td>\n",
              "      <td>SL.UEM.TOTL.ZS</td>\n",
              "      <td>6.930000</td>\n",
              "      <td>7.700000</td>\n",
              "    </tr>\n",
              "    <tr>\n",
              "      <th>3</th>\n",
              "      <td>Albania</td>\n",
              "      <td>ALB</td>\n",
              "      <td>Unemployment, total (% of total labor force) (...</td>\n",
              "      <td>SL.UEM.TOTL.ZS</td>\n",
              "      <td>11.470000</td>\n",
              "      <td>11.700000</td>\n",
              "    </tr>\n",
              "    <tr>\n",
              "      <th>4</th>\n",
              "      <td>Andorra</td>\n",
              "      <td>AND</td>\n",
              "      <td>Unemployment, total (% of total labor force) (...</td>\n",
              "      <td>SL.UEM.TOTL.ZS</td>\n",
              "      <td>NaN</td>\n",
              "      <td>NaN</td>\n",
              "    </tr>\n",
              "    <tr>\n",
              "      <th>5</th>\n",
              "      <td>Arab World</td>\n",
              "      <td>ARB</td>\n",
              "      <td>Unemployment, total (% of total labor force) (...</td>\n",
              "      <td>SL.UEM.TOTL.ZS</td>\n",
              "      <td>10.207222</td>\n",
              "      <td>11.481468</td>\n",
              "    </tr>\n",
              "    <tr>\n",
              "      <th>6</th>\n",
              "      <td>United Arab Emirates</td>\n",
              "      <td>ARE</td>\n",
              "      <td>Unemployment, total (% of total labor force) (...</td>\n",
              "      <td>SL.UEM.TOTL.ZS</td>\n",
              "      <td>2.280000</td>\n",
              "      <td>5.000000</td>\n",
              "    </tr>\n",
              "    <tr>\n",
              "      <th>7</th>\n",
              "      <td>Argentina</td>\n",
              "      <td>ARG</td>\n",
              "      <td>Unemployment, total (% of total labor force) (...</td>\n",
              "      <td>SL.UEM.TOTL.ZS</td>\n",
              "      <td>9.840000</td>\n",
              "      <td>11.670000</td>\n",
              "    </tr>\n",
              "    <tr>\n",
              "      <th>8</th>\n",
              "      <td>Armenia</td>\n",
              "      <td>ARM</td>\n",
              "      <td>Unemployment, total (% of total labor force) (...</td>\n",
              "      <td>SL.UEM.TOTL.ZS</td>\n",
              "      <td>18.809999</td>\n",
              "      <td>20.209999</td>\n",
              "    </tr>\n",
              "    <tr>\n",
              "      <th>9</th>\n",
              "      <td>American Samoa</td>\n",
              "      <td>ASM</td>\n",
              "      <td>Unemployment, total (% of total labor force) (...</td>\n",
              "      <td>SL.UEM.TOTL.ZS</td>\n",
              "      <td>NaN</td>\n",
              "      <td>NaN</td>\n",
              "    </tr>\n",
              "  </tbody>\n",
              "</table>\n",
              "</div>"
            ],
            "text/plain": [
              "           Country Name Country Code  ...       2019       2020\n",
              "0                 Aruba          ABW  ...        NaN        NaN\n",
              "1           Afghanistan          AFG  ...  10.980000  11.730000\n",
              "2                Angola          AGO  ...   6.930000   7.700000\n",
              "3               Albania          ALB  ...  11.470000  11.700000\n",
              "4               Andorra          AND  ...        NaN        NaN\n",
              "5            Arab World          ARB  ...  10.207222  11.481468\n",
              "6  United Arab Emirates          ARE  ...   2.280000   5.000000\n",
              "7             Argentina          ARG  ...   9.840000  11.670000\n",
              "8               Armenia          ARM  ...  18.809999  20.209999\n",
              "9        American Samoa          ASM  ...        NaN        NaN\n",
              "\n",
              "[10 rows x 6 columns]"
            ]
          },
          "metadata": {
            "tags": []
          },
          "execution_count": 176
        }
      ]
    },
    {
      "cell_type": "code",
      "metadata": {
        "colab": {
          "base_uri": "https://localhost:8080/",
          "height": 424
        },
        "id": "lRSrA2a56Vx6",
        "outputId": "7286088a-d77c-49be-f3af-f15375dadcbb"
      },
      "source": [
        "data_new.dropna()"
      ],
      "execution_count": 177,
      "outputs": [
        {
          "output_type": "execute_result",
          "data": {
            "text/html": [
              "<div>\n",
              "<style scoped>\n",
              "    .dataframe tbody tr th:only-of-type {\n",
              "        vertical-align: middle;\n",
              "    }\n",
              "\n",
              "    .dataframe tbody tr th {\n",
              "        vertical-align: top;\n",
              "    }\n",
              "\n",
              "    .dataframe thead th {\n",
              "        text-align: right;\n",
              "    }\n",
              "</style>\n",
              "<table border=\"1\" class=\"dataframe\">\n",
              "  <thead>\n",
              "    <tr style=\"text-align: right;\">\n",
              "      <th></th>\n",
              "      <th>Country Name</th>\n",
              "      <th>Country Code</th>\n",
              "      <th>Indicator Name</th>\n",
              "      <th>Indicator Code</th>\n",
              "      <th>2019</th>\n",
              "      <th>2020</th>\n",
              "    </tr>\n",
              "  </thead>\n",
              "  <tbody>\n",
              "    <tr>\n",
              "      <th>1</th>\n",
              "      <td>Afghanistan</td>\n",
              "      <td>AFG</td>\n",
              "      <td>Unemployment, total (% of total labor force) (...</td>\n",
              "      <td>SL.UEM.TOTL.ZS</td>\n",
              "      <td>10.980000</td>\n",
              "      <td>11.730000</td>\n",
              "    </tr>\n",
              "    <tr>\n",
              "      <th>2</th>\n",
              "      <td>Angola</td>\n",
              "      <td>AGO</td>\n",
              "      <td>Unemployment, total (% of total labor force) (...</td>\n",
              "      <td>SL.UEM.TOTL.ZS</td>\n",
              "      <td>6.930000</td>\n",
              "      <td>7.700000</td>\n",
              "    </tr>\n",
              "    <tr>\n",
              "      <th>3</th>\n",
              "      <td>Albania</td>\n",
              "      <td>ALB</td>\n",
              "      <td>Unemployment, total (% of total labor force) (...</td>\n",
              "      <td>SL.UEM.TOTL.ZS</td>\n",
              "      <td>11.470000</td>\n",
              "      <td>11.700000</td>\n",
              "    </tr>\n",
              "    <tr>\n",
              "      <th>5</th>\n",
              "      <td>Arab World</td>\n",
              "      <td>ARB</td>\n",
              "      <td>Unemployment, total (% of total labor force) (...</td>\n",
              "      <td>SL.UEM.TOTL.ZS</td>\n",
              "      <td>10.207222</td>\n",
              "      <td>11.481468</td>\n",
              "    </tr>\n",
              "    <tr>\n",
              "      <th>6</th>\n",
              "      <td>United Arab Emirates</td>\n",
              "      <td>ARE</td>\n",
              "      <td>Unemployment, total (% of total labor force) (...</td>\n",
              "      <td>SL.UEM.TOTL.ZS</td>\n",
              "      <td>2.280000</td>\n",
              "      <td>5.000000</td>\n",
              "    </tr>\n",
              "    <tr>\n",
              "      <th>...</th>\n",
              "      <td>...</td>\n",
              "      <td>...</td>\n",
              "      <td>...</td>\n",
              "      <td>...</td>\n",
              "      <td>...</td>\n",
              "      <td>...</td>\n",
              "    </tr>\n",
              "    <tr>\n",
              "      <th>258</th>\n",
              "      <td>Samoa</td>\n",
              "      <td>WSM</td>\n",
              "      <td>Unemployment, total (% of total labor force) (...</td>\n",
              "      <td>SL.UEM.TOTL.ZS</td>\n",
              "      <td>8.220000</td>\n",
              "      <td>8.870000</td>\n",
              "    </tr>\n",
              "    <tr>\n",
              "      <th>260</th>\n",
              "      <td>Yemen, Rep.</td>\n",
              "      <td>YEM</td>\n",
              "      <td>Unemployment, total (% of total labor force) (...</td>\n",
              "      <td>SL.UEM.TOTL.ZS</td>\n",
              "      <td>12.900000</td>\n",
              "      <td>13.420000</td>\n",
              "    </tr>\n",
              "    <tr>\n",
              "      <th>261</th>\n",
              "      <td>South Africa</td>\n",
              "      <td>ZAF</td>\n",
              "      <td>Unemployment, total (% of total labor force) (...</td>\n",
              "      <td>SL.UEM.TOTL.ZS</td>\n",
              "      <td>28.469999</td>\n",
              "      <td>28.740000</td>\n",
              "    </tr>\n",
              "    <tr>\n",
              "      <th>262</th>\n",
              "      <td>Zambia</td>\n",
              "      <td>ZMB</td>\n",
              "      <td>Unemployment, total (% of total labor force) (...</td>\n",
              "      <td>SL.UEM.TOTL.ZS</td>\n",
              "      <td>11.910000</td>\n",
              "      <td>12.170000</td>\n",
              "    </tr>\n",
              "    <tr>\n",
              "      <th>263</th>\n",
              "      <td>Zimbabwe</td>\n",
              "      <td>ZWE</td>\n",
              "      <td>Unemployment, total (% of total labor force) (...</td>\n",
              "      <td>SL.UEM.TOTL.ZS</td>\n",
              "      <td>5.020000</td>\n",
              "      <td>5.730000</td>\n",
              "    </tr>\n",
              "  </tbody>\n",
              "</table>\n",
              "<p>233 rows × 6 columns</p>\n",
              "</div>"
            ],
            "text/plain": [
              "             Country Name Country Code  ...       2019       2020\n",
              "1             Afghanistan          AFG  ...  10.980000  11.730000\n",
              "2                  Angola          AGO  ...   6.930000   7.700000\n",
              "3                 Albania          ALB  ...  11.470000  11.700000\n",
              "5              Arab World          ARB  ...  10.207222  11.481468\n",
              "6    United Arab Emirates          ARE  ...   2.280000   5.000000\n",
              "..                    ...          ...  ...        ...        ...\n",
              "258                 Samoa          WSM  ...   8.220000   8.870000\n",
              "260           Yemen, Rep.          YEM  ...  12.900000  13.420000\n",
              "261          South Africa          ZAF  ...  28.469999  28.740000\n",
              "262                Zambia          ZMB  ...  11.910000  12.170000\n",
              "263              Zimbabwe          ZWE  ...   5.020000   5.730000\n",
              "\n",
              "[233 rows x 6 columns]"
            ]
          },
          "metadata": {
            "tags": []
          },
          "execution_count": 177
        }
      ]
    },
    {
      "cell_type": "code",
      "metadata": {
        "id": "4nzff53hZIJo"
      },
      "source": [
        "data_new['diff%'] = data_new['2020'] - data_new['2019']"
      ],
      "execution_count": 178,
      "outputs": []
    },
    {
      "cell_type": "code",
      "metadata": {
        "colab": {
          "base_uri": "https://localhost:8080/",
          "height": 118
        },
        "id": "s9SmHFFBZVem",
        "outputId": "ae1cff29-792f-40ce-8ad7-01a88a2eeead"
      },
      "source": [
        "max_tot = data_new['diff%'].max()\n",
        "min_tot = data_new['diff%'].min()\n",
        "print(max_tot)\n",
        "print(min_tot)\n",
        "\n",
        "data_new.loc[data_new['diff%'] == min_tot] "
      ],
      "execution_count": 273,
      "outputs": [
        {
          "output_type": "stream",
          "text": [
            "5.590000152587901\n",
            "-1.3199996948242507\n"
          ],
          "name": "stdout"
        },
        {
          "output_type": "execute_result",
          "data": {
            "text/html": [
              "<div>\n",
              "<style scoped>\n",
              "    .dataframe tbody tr th:only-of-type {\n",
              "        vertical-align: middle;\n",
              "    }\n",
              "\n",
              "    .dataframe tbody tr th {\n",
              "        vertical-align: top;\n",
              "    }\n",
              "\n",
              "    .dataframe thead th {\n",
              "        text-align: right;\n",
              "    }\n",
              "</style>\n",
              "<table border=\"1\" class=\"dataframe\">\n",
              "  <thead>\n",
              "    <tr style=\"text-align: right;\">\n",
              "      <th></th>\n",
              "      <th>Country Name</th>\n",
              "      <th>Country Code</th>\n",
              "      <th>Indicator Name</th>\n",
              "      <th>Indicator Code</th>\n",
              "      <th>2019</th>\n",
              "      <th>2020</th>\n",
              "      <th>diff%</th>\n",
              "    </tr>\n",
              "  </thead>\n",
              "  <tbody>\n",
              "    <tr>\n",
              "      <th>212</th>\n",
              "      <td>Serbia</td>\n",
              "      <td>SRB</td>\n",
              "      <td>Unemployment, total (% of total labor force) (...</td>\n",
              "      <td>SL.UEM.TOTL.ZS</td>\n",
              "      <td>10.4</td>\n",
              "      <td>9.08</td>\n",
              "      <td>-1.32</td>\n",
              "    </tr>\n",
              "  </tbody>\n",
              "</table>\n",
              "</div>"
            ],
            "text/plain": [
              "    Country Name Country Code  ...  2020 diff%\n",
              "212       Serbia          SRB  ...  9.08 -1.32\n",
              "\n",
              "[1 rows x 7 columns]"
            ]
          },
          "metadata": {
            "tags": []
          },
          "execution_count": 273
        }
      ]
    },
    {
      "cell_type": "code",
      "metadata": {
        "id": "suONif1o7Vct"
      },
      "source": [
        "poverty_data = pd.read_excel('/content/API_SI.POV.DDAY_DS2_en_excel_v2_2230008.xls')"
      ],
      "execution_count": 180,
      "outputs": []
    },
    {
      "cell_type": "code",
      "metadata": {
        "colab": {
          "base_uri": "https://localhost:8080/",
          "height": 206
        },
        "id": "QgHcRPhH9sRc",
        "outputId": "394b4a92-f2d0-4056-fd2a-797b06a56b96"
      },
      "source": [
        "pov_data = poverty_data.drop(columns=['1960', '1961', '1962', '1963', '1964', '1965', '1966', '1967', '1968',\n",
        "       '1969', '1970', '1971', '1972', '1973', '1974', '1975', '1976', '1977',\n",
        "       '1978', '1979', '1980', '1981', '1982', '1983', '1984', '1985', '1986',\n",
        "       '1987', '1988', '1989', '1990', '1991', '1992', '1993', '1994', '1995',\n",
        "       '1996', '1997', '1998', '1999', '2000', '2001', '2002', '2003', '2004',\n",
        "       '2005', '2006', '2007'])\n",
        "pov_data.head(5)"
      ],
      "execution_count": 181,
      "outputs": [
        {
          "output_type": "execute_result",
          "data": {
            "text/html": [
              "<div>\n",
              "<style scoped>\n",
              "    .dataframe tbody tr th:only-of-type {\n",
              "        vertical-align: middle;\n",
              "    }\n",
              "\n",
              "    .dataframe tbody tr th {\n",
              "        vertical-align: top;\n",
              "    }\n",
              "\n",
              "    .dataframe thead th {\n",
              "        text-align: right;\n",
              "    }\n",
              "</style>\n",
              "<table border=\"1\" class=\"dataframe\">\n",
              "  <thead>\n",
              "    <tr style=\"text-align: right;\">\n",
              "      <th></th>\n",
              "      <th>Country Name</th>\n",
              "      <th>Country Code</th>\n",
              "      <th>Indicator Name</th>\n",
              "      <th>Indicator Code</th>\n",
              "      <th>2008</th>\n",
              "      <th>2009</th>\n",
              "      <th>2010</th>\n",
              "      <th>2011</th>\n",
              "      <th>2012</th>\n",
              "      <th>2013</th>\n",
              "      <th>2014</th>\n",
              "      <th>2015</th>\n",
              "      <th>2016</th>\n",
              "      <th>2017</th>\n",
              "      <th>2018</th>\n",
              "      <th>2019</th>\n",
              "      <th>2020</th>\n",
              "    </tr>\n",
              "  </thead>\n",
              "  <tbody>\n",
              "    <tr>\n",
              "      <th>0</th>\n",
              "      <td>Aruba</td>\n",
              "      <td>ABW</td>\n",
              "      <td>Poverty headcount ratio at $1.90 a day (2011 P...</td>\n",
              "      <td>SI.POV.DDAY</td>\n",
              "      <td>NaN</td>\n",
              "      <td>NaN</td>\n",
              "      <td>NaN</td>\n",
              "      <td>NaN</td>\n",
              "      <td>NaN</td>\n",
              "      <td>NaN</td>\n",
              "      <td>NaN</td>\n",
              "      <td>NaN</td>\n",
              "      <td>NaN</td>\n",
              "      <td>NaN</td>\n",
              "      <td>NaN</td>\n",
              "      <td>NaN</td>\n",
              "      <td>NaN</td>\n",
              "    </tr>\n",
              "    <tr>\n",
              "      <th>1</th>\n",
              "      <td>Afghanistan</td>\n",
              "      <td>AFG</td>\n",
              "      <td>Poverty headcount ratio at $1.90 a day (2011 P...</td>\n",
              "      <td>SI.POV.DDAY</td>\n",
              "      <td>NaN</td>\n",
              "      <td>NaN</td>\n",
              "      <td>NaN</td>\n",
              "      <td>NaN</td>\n",
              "      <td>NaN</td>\n",
              "      <td>NaN</td>\n",
              "      <td>NaN</td>\n",
              "      <td>NaN</td>\n",
              "      <td>NaN</td>\n",
              "      <td>NaN</td>\n",
              "      <td>NaN</td>\n",
              "      <td>NaN</td>\n",
              "      <td>NaN</td>\n",
              "    </tr>\n",
              "    <tr>\n",
              "      <th>2</th>\n",
              "      <td>Angola</td>\n",
              "      <td>AGO</td>\n",
              "      <td>Poverty headcount ratio at $1.90 a day (2011 P...</td>\n",
              "      <td>SI.POV.DDAY</td>\n",
              "      <td>34.4</td>\n",
              "      <td>NaN</td>\n",
              "      <td>NaN</td>\n",
              "      <td>NaN</td>\n",
              "      <td>NaN</td>\n",
              "      <td>NaN</td>\n",
              "      <td>NaN</td>\n",
              "      <td>NaN</td>\n",
              "      <td>NaN</td>\n",
              "      <td>NaN</td>\n",
              "      <td>49.9</td>\n",
              "      <td>NaN</td>\n",
              "      <td>NaN</td>\n",
              "    </tr>\n",
              "    <tr>\n",
              "      <th>3</th>\n",
              "      <td>Albania</td>\n",
              "      <td>ALB</td>\n",
              "      <td>Poverty headcount ratio at $1.90 a day (2011 P...</td>\n",
              "      <td>SI.POV.DDAY</td>\n",
              "      <td>0.3</td>\n",
              "      <td>NaN</td>\n",
              "      <td>NaN</td>\n",
              "      <td>NaN</td>\n",
              "      <td>0.8</td>\n",
              "      <td>NaN</td>\n",
              "      <td>1.6</td>\n",
              "      <td>1.1</td>\n",
              "      <td>0.9</td>\n",
              "      <td>1.3</td>\n",
              "      <td>NaN</td>\n",
              "      <td>NaN</td>\n",
              "      <td>NaN</td>\n",
              "    </tr>\n",
              "    <tr>\n",
              "      <th>4</th>\n",
              "      <td>Andorra</td>\n",
              "      <td>AND</td>\n",
              "      <td>Poverty headcount ratio at $1.90 a day (2011 P...</td>\n",
              "      <td>SI.POV.DDAY</td>\n",
              "      <td>NaN</td>\n",
              "      <td>NaN</td>\n",
              "      <td>NaN</td>\n",
              "      <td>NaN</td>\n",
              "      <td>NaN</td>\n",
              "      <td>NaN</td>\n",
              "      <td>NaN</td>\n",
              "      <td>NaN</td>\n",
              "      <td>NaN</td>\n",
              "      <td>NaN</td>\n",
              "      <td>NaN</td>\n",
              "      <td>NaN</td>\n",
              "      <td>NaN</td>\n",
              "    </tr>\n",
              "  </tbody>\n",
              "</table>\n",
              "</div>"
            ],
            "text/plain": [
              "  Country Name Country Code  ... 2019 2020\n",
              "0        Aruba          ABW  ...  NaN  NaN\n",
              "1  Afghanistan          AFG  ...  NaN  NaN\n",
              "2       Angola          AGO  ...  NaN  NaN\n",
              "3      Albania          ALB  ...  NaN  NaN\n",
              "4      Andorra          AND  ...  NaN  NaN\n",
              "\n",
              "[5 rows x 17 columns]"
            ]
          },
          "metadata": {
            "tags": []
          },
          "execution_count": 181
        }
      ]
    },
    {
      "cell_type": "code",
      "metadata": {
        "id": "-fNny_svdlkG"
      },
      "source": [
        "combined = data_new.merge(pov_data, on='Country Name', how = 'inner')"
      ],
      "execution_count": 182,
      "outputs": []
    },
    {
      "cell_type": "code",
      "metadata": {
        "id": "8BXuomyAdlcz"
      },
      "source": [
        "combined = combined.drop(columns=['Indicator Name_x','Indicator Code_x', 'Indicator Code_y','Indicator Name_y','Country Code_y'])"
      ],
      "execution_count": 183,
      "outputs": []
    },
    {
      "cell_type": "code",
      "metadata": {
        "colab": {
          "base_uri": "https://localhost:8080/",
          "height": 112
        },
        "id": "CEjFFtWfdlgc",
        "outputId": "c28ae7f2-063e-4d60-8afc-09e37a2048ce"
      },
      "source": [
        "combined.head(2)"
      ],
      "execution_count": 184,
      "outputs": [
        {
          "output_type": "execute_result",
          "data": {
            "text/html": [
              "<div>\n",
              "<style scoped>\n",
              "    .dataframe tbody tr th:only-of-type {\n",
              "        vertical-align: middle;\n",
              "    }\n",
              "\n",
              "    .dataframe tbody tr th {\n",
              "        vertical-align: top;\n",
              "    }\n",
              "\n",
              "    .dataframe thead th {\n",
              "        text-align: right;\n",
              "    }\n",
              "</style>\n",
              "<table border=\"1\" class=\"dataframe\">\n",
              "  <thead>\n",
              "    <tr style=\"text-align: right;\">\n",
              "      <th></th>\n",
              "      <th>Country Name</th>\n",
              "      <th>Country Code_x</th>\n",
              "      <th>2019_x</th>\n",
              "      <th>2020_x</th>\n",
              "      <th>diff%</th>\n",
              "      <th>2008</th>\n",
              "      <th>2009</th>\n",
              "      <th>2010</th>\n",
              "      <th>2011</th>\n",
              "      <th>2012</th>\n",
              "      <th>2013</th>\n",
              "      <th>2014</th>\n",
              "      <th>2015</th>\n",
              "      <th>2016</th>\n",
              "      <th>2017</th>\n",
              "      <th>2018</th>\n",
              "      <th>2019_y</th>\n",
              "      <th>2020_y</th>\n",
              "    </tr>\n",
              "  </thead>\n",
              "  <tbody>\n",
              "    <tr>\n",
              "      <th>0</th>\n",
              "      <td>Aruba</td>\n",
              "      <td>ABW</td>\n",
              "      <td>NaN</td>\n",
              "      <td>NaN</td>\n",
              "      <td>NaN</td>\n",
              "      <td>NaN</td>\n",
              "      <td>NaN</td>\n",
              "      <td>NaN</td>\n",
              "      <td>NaN</td>\n",
              "      <td>NaN</td>\n",
              "      <td>NaN</td>\n",
              "      <td>NaN</td>\n",
              "      <td>NaN</td>\n",
              "      <td>NaN</td>\n",
              "      <td>NaN</td>\n",
              "      <td>NaN</td>\n",
              "      <td>NaN</td>\n",
              "      <td>NaN</td>\n",
              "    </tr>\n",
              "    <tr>\n",
              "      <th>1</th>\n",
              "      <td>Afghanistan</td>\n",
              "      <td>AFG</td>\n",
              "      <td>10.98</td>\n",
              "      <td>11.73</td>\n",
              "      <td>0.75</td>\n",
              "      <td>NaN</td>\n",
              "      <td>NaN</td>\n",
              "      <td>NaN</td>\n",
              "      <td>NaN</td>\n",
              "      <td>NaN</td>\n",
              "      <td>NaN</td>\n",
              "      <td>NaN</td>\n",
              "      <td>NaN</td>\n",
              "      <td>NaN</td>\n",
              "      <td>NaN</td>\n",
              "      <td>NaN</td>\n",
              "      <td>NaN</td>\n",
              "      <td>NaN</td>\n",
              "    </tr>\n",
              "  </tbody>\n",
              "</table>\n",
              "</div>"
            ],
            "text/plain": [
              "  Country Name Country Code_x  2019_x  2020_x  ...  2017  2018  2019_y  2020_y\n",
              "0        Aruba            ABW     NaN     NaN  ...   NaN   NaN     NaN     NaN\n",
              "1  Afghanistan            AFG   10.98   11.73  ...   NaN   NaN     NaN     NaN\n",
              "\n",
              "[2 rows x 18 columns]"
            ]
          },
          "metadata": {
            "tags": []
          },
          "execution_count": 184
        }
      ]
    },
    {
      "cell_type": "code",
      "metadata": {
        "id": "tGbD7F80l_zd"
      },
      "source": [
        "combined.dropna(subset=['2019_x','2020_x','diff%'], how='any', inplace=True)"
      ],
      "execution_count": 200,
      "outputs": []
    },
    {
      "cell_type": "code",
      "metadata": {
        "id": "bUsXFDozdlZb"
      },
      "source": [
        "#combined.loc[combined['diff%'] > 1.5 ]"
      ],
      "execution_count": 221,
      "outputs": []
    },
    {
      "cell_type": "code",
      "metadata": {
        "colab": {
          "base_uri": "https://localhost:8080/",
          "height": 49
        },
        "id": "K01drwGDlJlM",
        "outputId": "1766871e-b503-4266-d272-5d871d2078a8"
      },
      "source": [
        "combined.loc[combined['Country Name'] == 'Bermuda']"
      ],
      "execution_count": 202,
      "outputs": [
        {
          "output_type": "execute_result",
          "data": {
            "text/html": [
              "<div>\n",
              "<style scoped>\n",
              "    .dataframe tbody tr th:only-of-type {\n",
              "        vertical-align: middle;\n",
              "    }\n",
              "\n",
              "    .dataframe tbody tr th {\n",
              "        vertical-align: top;\n",
              "    }\n",
              "\n",
              "    .dataframe thead th {\n",
              "        text-align: right;\n",
              "    }\n",
              "</style>\n",
              "<table border=\"1\" class=\"dataframe\">\n",
              "  <thead>\n",
              "    <tr style=\"text-align: right;\">\n",
              "      <th></th>\n",
              "      <th>Country Name</th>\n",
              "      <th>Country Code_x</th>\n",
              "      <th>2019_x</th>\n",
              "      <th>2020_x</th>\n",
              "      <th>diff%</th>\n",
              "      <th>2008</th>\n",
              "      <th>2009</th>\n",
              "      <th>2010</th>\n",
              "      <th>2011</th>\n",
              "      <th>2012</th>\n",
              "      <th>2013</th>\n",
              "      <th>2014</th>\n",
              "      <th>2015</th>\n",
              "      <th>2016</th>\n",
              "      <th>2017</th>\n",
              "      <th>2018</th>\n",
              "      <th>2019_y</th>\n",
              "      <th>2020_y</th>\n",
              "    </tr>\n",
              "  </thead>\n",
              "  <tbody>\n",
              "  </tbody>\n",
              "</table>\n",
              "</div>"
            ],
            "text/plain": [
              "Empty DataFrame\n",
              "Columns: [Country Name, Country Code_x, 2019_x, 2020_x, diff%, 2008, 2009, 2010, 2011, 2012, 2013, 2014, 2015, 2016, 2017, 2018, 2019_y, 2020_y]\n",
              "Index: []"
            ]
          },
          "metadata": {
            "tags": []
          },
          "execution_count": 202
        }
      ]
    },
    {
      "cell_type": "markdown",
      "metadata": {
        "id": "XnZ4cYy1pKCL"
      },
      "source": [
        "# **Let us visualize the rate of change in unemployment**\n",
        "# **in the year 2020**\n",
        "\n"
      ]
    },
    {
      "cell_type": "code",
      "metadata": {
        "id": "2_l3Qqq-pSA8"
      },
      "source": [
        "combined_most_affected = combined.loc[combined['diff%']> 1]"
      ],
      "execution_count": 226,
      "outputs": []
    },
    {
      "cell_type": "code",
      "metadata": {
        "colab": {
          "base_uri": "https://localhost:8080/",
          "height": 684
        },
        "id": "_XVNboRIil8f",
        "outputId": "e5825a9e-5076-4b8d-dd18-ff71553b9368"
      },
      "source": [
        "\n",
        "import seaborn as sns\n",
        "import matplotlib.pyplot as plt\n",
        "\n",
        "#cur = combined[combined['diff%']]\n",
        "\n",
        "plt.rcParams['figure.figsize'] = (25, 7)\n",
        "ax = sns.barplot(x = combined_most_affected['Country Name'], y = combined_most_affected['diff%'], palette = 'dark')\n",
        "#ax.set_xlabel(xlabel = 'Countries', fontsize = 19)\n",
        "ax.set_ylabel(ylabel = 'Rate (%)', fontsize = 9)\n",
        "ax.set_title(label = 'Rate of increase/decrease in unemployment', fontsize = 18)\n",
        "plt.xticks(rotation = 90)\n",
        "plt.show()"
      ],
      "execution_count": 234,
      "outputs": [
        {
          "output_type": "display_data",
          "data": {
            "image/png": "[encoded data removed]",
            "text/plain": [
              "<Figure size 1800x504 with 1 Axes>"
            ]
          },
          "metadata": {
            "tags": [],
            "needs_background": "light"
          }
        }
      ]
    },
    {
      "cell_type": "code",
      "metadata": {
        "colab": {
          "base_uri": "https://localhost:8080/",
          "height": 542
        },
        "id": "ZS5dS_RtpR9d",
        "outputId": "182c2087-5796-4fea-bd65-5fa30f4da6d5"
      },
      "source": [
        "import plotly.express as px\n",
        "import plotly.graph_objs as go\n",
        "import plotly.figure_factory as ff\n",
        "\n",
        "\n",
        "fig = px.choropleth(combined, locations= \"Country Name\", \n",
        "                    locationmode=\"country names\", color= \"diff%\", \n",
        "                    hover_name= \"Country Name\",\n",
        "                    color_continuous_scale=\"reds\", \n",
        "                    title='% change in unemployment from 2019 to 2020')\n",
        "fig.update(layout_coloraxis_showscale=True)\n",
        "#fig.savefig('world-view.svg')\n",
        "fig.show()"
      ],
      "execution_count": 278,
      "outputs": [
        {
          "output_type": "display_data",
          "data": {
            "text/html": [
              "<html>\n",
              "<head><meta charset=\"utf-8\" /></head>\n",
              "<body>\n",
              "    <div>\n",
              "            <script src=\"https://cdnjs.cloudflare.com/ajax/libs/mathjax/2.7.5/MathJax.js?config=TeX-AMS-MML_SVG\"></script><script type=\"text/javascript\">if (window.MathJax) {MathJax.Hub.Config({SVG: {font: \"STIX-Web\"}});}</script>\n",
              "                <script type=\"text/javascript\">window.PlotlyConfig = {MathJaxConfig: 'local'};</script>\n",
              "        <script src=\"https://cdn.plot.ly/plotly-latest.min.js\"></script>    \n",
              "            <div id=\"6a0d1e0a-c8a4-46f1-85c5-3a1586c8afb6\" class=\"plotly-graph-div\" style=\"height:525px; width:100%;\"></div>\n",
              "            <script type=\"text/javascript\">\n",
              "                \n",
              "                    window.PLOTLYENV=window.PLOTLYENV || {};\n",
              "                    \n",
              "                if (document.getElementById(\"6a0d1e0a-c8a4-46f1-85c5-3a1586c8afb6\")) {\n",
              "                    Plotly.newPlot(\n",
              "                        '6a0d1e0a-c8a4-46f1-85c5-3a1586c8afb6',\n",
              "                        [{\"coloraxis\": \"coloraxis\", \"geo\": \"geo\", \"hoverlabel\": {\"namelength\": 0}, \"hovertemplate\": \"<b>%{hovertext}</b><br><br>Country Name=%{location}<br>diff%=%{z}\", \"hovertext\": [\"Afghanistan\", \"Angola\", \"Albania\", \"Arab World\", \"United Arab Emirates\", \"Argentina\", \"Armenia\", \"Australia\", \"Austria\", \"Azerbaijan\", \"Burundi\", \"Belgium\", \"Benin\", \"Burkina Faso\", \"Bangladesh\", \"Bulgaria\", \"Bahrain\", \"Bahamas, The\", \"Bosnia and Herzegovina\", \"Belarus\", \"Belize\", \"Bolivia\", \"Brazil\", \"Barbados\", \"Brunei Darussalam\", \"Bhutan\", \"Botswana\", \"Central African Republic\", \"Canada\", \"Central Europe and the Baltics\", \"Switzerland\", \"Channel Islands\", \"Chile\", \"China\", \"Cote d'Ivoire\", \"Cameroon\", \"Congo, Dem. Rep.\", \"Congo, Rep.\", \"Colombia\", \"Comoros\", \"Cabo Verde\", \"Costa Rica\", \"Caribbean small states\", \"Cuba\", \"Cyprus\", \"Czech Republic\", \"Germany\", \"Djibouti\", \"Denmark\", \"Dominican Republic\", \"Algeria\", \"East Asia & Pacific (excluding high income)\", \"Early-demographic dividend\", \"East Asia & Pacific\", \"Europe & Central Asia (excluding high income)\", \"Europe & Central Asia\", \"Ecuador\", \"Egypt, Arab Rep.\", \"Euro area\", \"Eritrea\", \"Spain\", \"Estonia\", \"Ethiopia\", \"European Union\", \"Fragile and conflict affected situations\", \"Finland\", \"Fiji\", \"France\", \"Gabon\", \"United Kingdom\", \"Georgia\", \"Ghana\", \"Guinea\", \"Gambia, The\", \"Guinea-Bissau\", \"Equatorial Guinea\", \"Greece\", \"Guatemala\", \"Guam\", \"Guyana\", \"High income\", \"Hong Kong SAR, China\", \"Honduras\", \"Heavily indebted poor countries (HIPC)\", \"Croatia\", \"Haiti\", \"Hungary\", \"IBRD only\", \"IDA & IBRD total\", \"IDA total\", \"IDA blend\", \"Indonesia\", \"IDA only\", \"India\", \"Ireland\", \"Iran, Islamic Rep.\", \"Iraq\", \"Iceland\", \"Israel\", \"Italy\", \"Jamaica\", \"Jordan\", \"Japan\", \"Kazakhstan\", \"Kenya\", \"Kyrgyz Republic\", \"Cambodia\", \"Korea, Rep.\", \"Kuwait\", \"Latin America & Caribbean (excluding high income)\", \"Lao PDR\", \"Lebanon\", \"Liberia\", \"Libya\", \"St. Lucia\", \"Latin America & Caribbean\", \"Least developed countries: UN classification\", \"Low income\", \"Sri Lanka\", \"Lower middle income\", \"Low & middle income\", \"Lesotho\", \"Late-demographic dividend\", \"Lithuania\", \"Luxembourg\", \"Latvia\", \"Macao SAR, China\", \"Morocco\", \"Moldova\", \"Madagascar\", \"Maldives\", \"Middle East & North Africa\", \"Mexico\", \"Middle income\", \"North Macedonia\", \"Mali\", \"Malta\", \"Myanmar\", \"Middle East & North Africa (excluding high income)\", \"Montenegro\", \"Mongolia\", \"Mozambique\", \"Mauritania\", \"Mauritius\", \"Malawi\", \"Malaysia\", \"North America\", \"Namibia\", \"New Caledonia\", \"Niger\", \"Nigeria\", \"Nicaragua\", \"Netherlands\", \"Norway\", \"Nepal\", \"New Zealand\", \"OECD members\", \"Oman\", \"Other small states\", \"Pakistan\", \"Panama\", \"Peru\", \"Philippines\", \"Papua New Guinea\", \"Poland\", \"Pre-demographic dividend\", \"Puerto Rico\", \"Korea, Dem. People\\u2019s Rep.\", \"Portugal\", \"Paraguay\", \"West Bank and Gaza\", \"Pacific island small states\", \"Post-demographic dividend\", \"French Polynesia\", \"Qatar\", \"Romania\", \"Russian Federation\", \"Rwanda\", \"South Asia\", \"Saudi Arabia\", \"Sudan\", \"Senegal\", \"Singapore\", \"Solomon Islands\", \"Sierra Leone\", \"El Salvador\", \"Somalia\", \"Serbia\", \"Sub-Saharan Africa (excluding high income)\", \"South Sudan\", \"Sub-Saharan Africa\", \"Small states\", \"Sao Tome and Principe\", \"Suriname\", \"Slovak Republic\", \"Slovenia\", \"Sweden\", \"Eswatini\", \"Syrian Arab Republic\", \"Chad\", \"East Asia & Pacific (IDA & IBRD countries)\", \"Europe & Central Asia (IDA & IBRD countries)\", \"Togo\", \"Thailand\", \"Tajikistan\", \"Turkmenistan\", \"Latin America & the Caribbean (IDA & IBRD countries)\", \"Timor-Leste\", \"Middle East & North Africa (IDA & IBRD countries)\", \"Tonga\", \"South Asia (IDA & IBRD)\", \"Sub-Saharan Africa (IDA & IBRD countries)\", \"Trinidad and Tobago\", \"Tunisia\", \"Turkey\", \"Tanzania\", \"Uganda\", \"Ukraine\", \"Upper middle income\", \"Uruguay\", \"United States\", \"Uzbekistan\", \"St. Vincent and the Grenadines\", \"Venezuela, RB\", \"Virgin Islands (U.S.)\", \"Vietnam\", \"Vanuatu\", \"World\", \"Samoa\", \"Yemen, Rep.\", \"South Africa\", \"Zambia\", \"Zimbabwe\"], \"locationmode\": \"country names\", \"locations\": [\"Afghanistan\", \"Angola\", \"Albania\", \"Arab World\", \"United Arab Emirates\", \"Argentina\", \"Armenia\", \"Australia\", \"Austria\", \"Azerbaijan\", \"Burundi\", \"Belgium\", \"Benin\", \"Burkina Faso\", \"Bangladesh\", \"Bulgaria\", \"Bahrain\", \"Bahamas, The\", \"Bosnia and Herzegovina\", \"Belarus\", \"Belize\", \"Bolivia\", \"Brazil\", \"Barbados\", \"Brunei Darussalam\", \"Bhutan\", \"Botswana\", \"Central African Republic\", \"Canada\", \"Central Europe and the Baltics\", \"Switzerland\", \"Channel Islands\", \"Chile\", \"China\", \"Cote d'Ivoire\", \"Cameroon\", \"Congo, Dem. Rep.\", \"Congo, Rep.\", \"Colombia\", \"Comoros\", \"Cabo Verde\", \"Costa Rica\", \"Caribbean small states\", \"Cuba\", \"Cyprus\", \"Czech Republic\", \"Germany\", \"Djibouti\", \"Denmark\", \"Dominican Republic\", \"Algeria\", \"East Asia & Pacific (excluding high income)\", \"Early-demographic dividend\", \"East Asia & Pacific\", \"Europe & Central Asia (excluding high income)\", \"Europe & Central Asia\", \"Ecuador\", \"Egypt, Arab Rep.\", \"Euro area\", \"Eritrea\", \"Spain\", \"Estonia\", \"Ethiopia\", \"European Union\", \"Fragile and conflict affected situations\", \"Finland\", \"Fiji\", \"France\", \"Gabon\", \"United Kingdom\", \"Georgia\", \"Ghana\", \"Guinea\", \"Gambia, The\", \"Guinea-Bissau\", \"Equatorial Guinea\", \"Greece\", \"Guatemala\", \"Guam\", \"Guyana\", \"High income\", \"Hong Kong SAR, China\", \"Honduras\", \"Heavily indebted poor countries (HIPC)\", \"Croatia\", \"Haiti\", \"Hungary\", \"IBRD only\", \"IDA & IBRD total\", \"IDA total\", \"IDA blend\", \"Indonesia\", \"IDA only\", \"India\", \"Ireland\", \"Iran, Islamic Rep.\", \"Iraq\", \"Iceland\", \"Israel\", \"Italy\", \"Jamaica\", \"Jordan\", \"Japan\", \"Kazakhstan\", \"Kenya\", \"Kyrgyz Republic\", \"Cambodia\", \"Korea, Rep.\", \"Kuwait\", \"Latin America & Caribbean (excluding high income)\", \"Lao PDR\", \"Lebanon\", \"Liberia\", \"Libya\", \"St. Lucia\", \"Latin America & Caribbean\", \"Least developed countries: UN classification\", \"Low income\", \"Sri Lanka\", \"Lower middle income\", \"Low & middle income\", \"Lesotho\", \"Late-demographic dividend\", \"Lithuania\", \"Luxembourg\", \"Latvia\", \"Macao SAR, China\", \"Morocco\", \"Moldova\", \"Madagascar\", \"Maldives\", \"Middle East & North Africa\", \"Mexico\", \"Middle income\", \"North Macedonia\", \"Mali\", \"Malta\", \"Myanmar\", \"Middle East & North Africa (excluding high income)\", \"Montenegro\", \"Mongolia\", \"Mozambique\", \"Mauritania\", \"Mauritius\", \"Malawi\", \"Malaysia\", \"North America\", \"Namibia\", \"New Caledonia\", \"Niger\", \"Nigeria\", \"Nicaragua\", \"Netherlands\", \"Norway\", \"Nepal\", \"New Zealand\", \"OECD members\", \"Oman\", \"Other small states\", \"Pakistan\", \"Panama\", \"Peru\", \"Philippines\", \"Papua New Guinea\", \"Poland\", \"Pre-demographic dividend\", \"Puerto Rico\", \"Korea, Dem. People\\u2019s Rep.\", \"Portugal\", \"Paraguay\", \"West Bank and Gaza\", \"Pacific island small states\", \"Post-demographic dividend\", \"French Polynesia\", \"Qatar\", \"Romania\", \"Russian Federation\", \"Rwanda\", \"South Asia\", \"Saudi Arabia\", \"Sudan\", \"Senegal\", \"Singapore\", \"Solomon Islands\", \"Sierra Leone\", \"El Salvador\", \"Somalia\", \"Serbia\", \"Sub-Saharan Africa (excluding high income)\", \"South Sudan\", \"Sub-Saharan Africa\", \"Small states\", \"Sao Tome and Principe\", \"Suriname\", \"Slovak Republic\", \"Slovenia\", \"Sweden\", \"Eswatini\", \"Syrian Arab Republic\", \"Chad\", \"East Asia & Pacific (IDA & IBRD countries)\", \"Europe & Central Asia (IDA & IBRD countries)\", \"Togo\", \"Thailand\", \"Tajikistan\", \"Turkmenistan\", \"Latin America & the Caribbean (IDA & IBRD countries)\", \"Timor-Leste\", \"Middle East & North Africa (IDA & IBRD countries)\", \"Tonga\", \"South Asia (IDA & IBRD)\", \"Sub-Saharan Africa (IDA & IBRD countries)\", \"Trinidad and Tobago\", \"Tunisia\", \"Turkey\", \"Tanzania\", \"Uganda\", \"Ukraine\", \"Upper middle income\", \"Uruguay\", \"United States\", \"Uzbekistan\", \"St. Vincent and the Grenadines\", \"Venezuela, RB\", \"Virgin Islands (U.S.)\", \"Vietnam\", \"Vanuatu\", \"World\", \"Samoa\", \"Yemen, Rep.\", \"South Africa\", \"Zambia\", \"Zimbabwe\"], \"name\": \"\", \"type\": \"choropleth\", \"z\": [0.75, 0.7699999809265199, 0.2299995422362997, 1.2742455303195275, 2.72000002861023, 1.8299999237060085, 1.3999996185302983, 1.4500002861022896, 1.2800002098083505, 1.4299998283386204, -0.619999945163731, 0.6500000953674405, 0.22000002861022994, 0.34000015258788974, 1.0800004005432093, 1.48000001907348, 2.5300002098083496, 4.300000190734901, 1.160000801086401, 0.5700001716613796, 1.3600001335144096, 2.15000009536743, 1.7399997711180983, 2.689999580383301, 1.4499998092651305, 1.47000002861023, 0.4900016784668004, 0.28999996185302024, 3.8199996948242196, 0.7801842643968109, 0.5500001907348597, 1.0499997138977095, 4.22000026702877, 0.40000009536742986, 0.3299999237060498, 0.29999995231627974, 0.42000007629394, 0.6700000762939702, 5.47999954223633, 0.7300004959106392, 1.3400001525879013, 5.590000152587901, 1.7664243499841277, 2.19999992847442, 0.13999986648559037, 0.9300000667571999, 1.1699998378753702, 0.5999994277953995, 0.6399998664856001, 2.53999948501587, 1.0199995040894017, 0.4514070913337753, 1.2629081651386054, 0.4807459718350988, 0.8275322547671751, 0.7178957800923964, 2.4200000762939498, 0.7200002670287695, 0.6446893687832196, 1.0999999046325701, 1.5699996948241992, 2.0100002288818297, 0.75, 0.671525624494886, 0.6265287767650349, 1.13000011444091, 0.6799998283386302, 0.18000030517577947, 0.8299999237061009, 0.6000001430511497, 0.4800004959107014, 0.41000032424926935, 0.21000003814697, 0.7000007629394496, 0.3700001239776598, 1.1999998092651296, -0.4599990844726989, 2.2900002002716, 1.8600001335144105, 1.9099998474120987, 2.002378651296853, 2.8400001525878897, 3.8200001716613707, 0.5213696634706819, 0.57999992370606, 1.0200004577637003, 0.9299998283386199, 0.9966078987731617, 0.9091854708860208, 0.6345287555040722, 0.5187345573376536, 0.49000024795532005, 0.6880781322329694, 1.8400001525878897, 0.9700002670288095, -0.1800003051758008, 0.9799995422363992, 1.5000002384185804, 0.8100001811981197, -0.639999389648441, 0.6799998283386195, 1.6499996185302983, 0.5699999332428001, 1.25, 0.38000011444091975, 1.1700000762939498, 0.180000007152558, 0.3200001716613796, 4.379999876022341, 2.1969009862767432, 0.329999983310699, 0.5700001716613698, 0.40999984741211026, 1.0499992370604971, 1.539999008178702, 2.2934548719145216, 0.6725646311516105, 0.49651381465392586, 0.5700001716613796, 1.2217723438840826, 0.8969188108476844, 0.7899990081786967, 0.7156007830291466, 2.170000076293939, 1.3600001335143999, 1.8799996376037607, 0.79999995231628, 1.1399993896484606, -0.38999986648560014, 0.25, 1.3599996566772408, 1.0382972308544467, 1.23000001907348, 0.9407679971767546, 1.139999389648498, 0.2600002288818404, 0.6900000572204599, 1.28999996185303, 0.6899360390114637, 0.7399997711181001, -0.9800000190734899, 0.20000004768371005, 0.5299997329712003, 0.75, 0.4299998283386195, 1.2400002479553196, 4.548891565313313, 0.6000003814697017, 1.0700006484986009, 0.229999989271164, 0.48000049591064986, 0.6800003051757795, 0.7100000381469695, 0.9299998283386204, 1.5900001525878897, 0.4800000190734801, 1.9721243825955375, 3.12999975681305, 1.3004388277231733, 0.67000007629394, 5.48999977111814, 3.2099997997283896, 1.11999988555909, 0.37000012397766024, 0.2699999809265101, 0.41040772201554887, 2.8699998855590394, 0.19000005722046032, 0.7399997711181703, 1.0100002288818297, 2.0100002288818004, 0.4293895003440422, 1.9974173164024451, 1.0900001525878995, 3.330000050365929, 0.9300000667571999, 1.1300001144409197, 0.36000001430511686, 1.5886137879762767, 2.0900001525878906, 0.9499988555908985, 0.6300001144409197, 2.0900001525878897, 0.189999997615814, 0.23999977111817028, 3.01999998092652, 0.3100004196166992, -1.3199996948242507, 0.3517382219287688, 0.6499996185303001, 0.3522883943229571, 1.3434881971006885, 0.8099994659422993, 1.70999956130981, 1.03999996185303, 0.7200002670288095, 1.61999988555909, 1.1599998474120987, 0.8699998855590803, 0.3500000238418599, 0.4553637148404417, 0.7744580497637852, 0.4500002861022896, 0.29999995231628085, 0.8400001525878897, 0.6400001049041797, 2.292300657445013, 0.6399998664855904, 0.6720992661116458, 1.3599998950958203, 1.5886137879762767, 0.3522883943229571, 3.2799997329711896, 1.5600004196166992, 0.25, 0.20000004768371982, 0.7200000286102299, 1.2899999618530291, 0.7267561908418303, 3.319999694824169, 4.640000343322749, 0.3199996948242205, 1.6499996185303019, 1.98000049591064, 3.750000000000009, 0.2300000190734801, 0.25999999046325994, 1.0982522239369965, 0.6499996185302699, 0.520000457763599, 0.2700004577637003, 0.26000022888179863, 0.7100000381469798]}],\n",
              "                        {\"coloraxis\": {\"colorbar\": {\"title\": {\"text\": \"diff%\"}}, \"colorscale\": [[0.0, \"rgb(255,245,240)\"], [0.125, \"rgb(254,224,210)\"], [0.25, \"rgb(252,187,161)\"], [0.375, \"rgb(252,146,114)\"], [0.5, \"rgb(251,106,74)\"], [0.625, \"rgb(239,59,44)\"], [0.75, \"rgb(203,24,29)\"], [0.875, \"rgb(165,15,21)\"], [1.0, \"rgb(103,0,13)\"]], \"showscale\": true}, \"geo\": {\"center\": {}, \"domain\": {\"x\": [0.0, 1.0], \"y\": [0.0, 1.0]}}, \"legend\": {\"tracegroupgap\": 0}, \"template\": {\"data\": {\"bar\": [{\"error_x\": {\"color\": \"#2a3f5f\"}, \"error_y\": {\"color\": \"#2a3f5f\"}, \"marker\": {\"line\": {\"color\": \"#E5ECF6\", \"width\": 0.5}}, \"type\": \"bar\"}], \"barpolar\": [{\"marker\": {\"line\": {\"color\": \"#E5ECF6\", \"width\": 0.5}}, \"type\": \"barpolar\"}], \"carpet\": [{\"aaxis\": {\"endlinecolor\": \"#2a3f5f\", \"gridcolor\": \"white\", \"linecolor\": \"white\", \"minorgridcolor\": \"white\", \"startlinecolor\": \"#2a3f5f\"}, \"baxis\": {\"endlinecolor\": \"#2a3f5f\", \"gridcolor\": \"white\", \"linecolor\": \"white\", \"minorgridcolor\": \"white\", \"startlinecolor\": \"#2a3f5f\"}, \"type\": \"carpet\"}], \"choropleth\": [{\"colorbar\": {\"outlinewidth\": 0, \"ticks\": \"\"}, \"type\": \"choropleth\"}], \"contour\": [{\"colorbar\": {\"outlinewidth\": 0, \"ticks\": \"\"}, \"colorscale\": [[0.0, \"#0d0887\"], [0.1111111111111111, \"#46039f\"], [0.2222222222222222, \"#7201a8\"], [0.3333333333333333, \"#9c179e\"], [0.4444444444444444, \"#bd3786\"], [0.5555555555555556, \"#d8576b\"], [0.6666666666666666, \"#ed7953\"], [0.7777777777777778, \"#fb9f3a\"], [0.8888888888888888, \"#fdca26\"], [1.0, \"#f0f921\"]], \"type\": \"contour\"}], \"contourcarpet\": [{\"colorbar\": {\"outlinewidth\": 0, \"ticks\": \"\"}, \"type\": \"contourcarpet\"}], \"heatmap\": [{\"colorbar\": {\"outlinewidth\": 0, \"ticks\": \"\"}, \"colorscale\": [[0.0, \"#0d0887\"], [0.1111111111111111, \"#46039f\"], [0.2222222222222222, \"#7201a8\"], [0.3333333333333333, \"#9c179e\"], [0.4444444444444444, \"#bd3786\"], [0.5555555555555556, \"#d8576b\"], [0.6666666666666666, \"#ed7953\"], [0.7777777777777778, \"#fb9f3a\"], [0.8888888888888888, \"#fdca26\"], [1.0, \"#f0f921\"]], \"type\": \"heatmap\"}], \"heatmapgl\": [{\"colorbar\": {\"outlinewidth\": 0, \"ticks\": \"\"}, \"colorscale\": [[0.0, \"#0d0887\"], [0.1111111111111111, \"#46039f\"], [0.2222222222222222, \"#7201a8\"], [0.3333333333333333, \"#9c179e\"], [0.4444444444444444, \"#bd3786\"], [0.5555555555555556, \"#d8576b\"], [0.6666666666666666, \"#ed7953\"], [0.7777777777777778, \"#fb9f3a\"], [0.8888888888888888, \"#fdca26\"], [1.0, \"#f0f921\"]], \"type\": \"heatmapgl\"}], \"histogram\": [{\"marker\": {\"colorbar\": {\"outlinewidth\": 0, \"ticks\": \"\"}}, \"type\": \"histogram\"}], \"histogram2d\": [{\"colorbar\": {\"outlinewidth\": 0, \"ticks\": \"\"}, \"colorscale\": [[0.0, \"#0d0887\"], [0.1111111111111111, \"#46039f\"], [0.2222222222222222, \"#7201a8\"], [0.3333333333333333, \"#9c179e\"], [0.4444444444444444, \"#bd3786\"], [0.5555555555555556, \"#d8576b\"], [0.6666666666666666, \"#ed7953\"], [0.7777777777777778, \"#fb9f3a\"], [0.8888888888888888, \"#fdca26\"], [1.0, \"#f0f921\"]], \"type\": \"histogram2d\"}], \"histogram2dcontour\": [{\"colorbar\": {\"outlinewidth\": 0, \"ticks\": \"\"}, \"colorscale\": [[0.0, \"#0d0887\"], [0.1111111111111111, \"#46039f\"], [0.2222222222222222, \"#7201a8\"], [0.3333333333333333, \"#9c179e\"], [0.4444444444444444, \"#bd3786\"], [0.5555555555555556, \"#d8576b\"], [0.6666666666666666, \"#ed7953\"], [0.7777777777777778, \"#fb9f3a\"], [0.8888888888888888, \"#fdca26\"], [1.0, \"#f0f921\"]], \"type\": \"histogram2dcontour\"}], \"mesh3d\": [{\"colorbar\": {\"outlinewidth\": 0, \"ticks\": \"\"}, \"type\": \"mesh3d\"}], \"parcoords\": [{\"line\": {\"colorbar\": {\"outlinewidth\": 0, \"ticks\": \"\"}}, \"type\": \"parcoords\"}], \"pie\": [{\"automargin\": true, \"type\": \"pie\"}], \"scatter\": [{\"marker\": {\"colorbar\": {\"outlinewidth\": 0, \"ticks\": \"\"}}, \"type\": \"scatter\"}], \"scatter3d\": [{\"line\": {\"colorbar\": {\"outlinewidth\": 0, \"ticks\": \"\"}}, \"marker\": {\"colorbar\": {\"outlinewidth\": 0, \"ticks\": \"\"}}, \"type\": \"scatter3d\"}], \"scattercarpet\": [{\"marker\": {\"colorbar\": {\"outlinewidth\": 0, \"ticks\": \"\"}}, \"type\": \"scattercarpet\"}], \"scattergeo\": [{\"marker\": {\"colorbar\": {\"outlinewidth\": 0, \"ticks\": \"\"}}, \"type\": \"scattergeo\"}], \"scattergl\": [{\"marker\": {\"colorbar\": {\"outlinewidth\": 0, \"ticks\": \"\"}}, \"type\": \"scattergl\"}], \"scattermapbox\": [{\"marker\": {\"colorbar\": {\"outlinewidth\": 0, \"ticks\": \"\"}}, \"type\": \"scattermapbox\"}], \"scatterpolar\": [{\"marker\": {\"colorbar\": {\"outlinewidth\": 0, \"ticks\": \"\"}}, \"type\": \"scatterpolar\"}], \"scatterpolargl\": [{\"marker\": {\"colorbar\": {\"outlinewidth\": 0, \"ticks\": \"\"}}, \"type\": \"scatterpolargl\"}], \"scatterternary\": [{\"marker\": {\"colorbar\": {\"outlinewidth\": 0, \"ticks\": \"\"}}, \"type\": \"scatterternary\"}], \"surface\": [{\"colorbar\": {\"outlinewidth\": 0, \"ticks\": \"\"}, \"colorscale\": [[0.0, \"#0d0887\"], [0.1111111111111111, \"#46039f\"], [0.2222222222222222, \"#7201a8\"], [0.3333333333333333, \"#9c179e\"], [0.4444444444444444, \"#bd3786\"], [0.5555555555555556, \"#d8576b\"], [0.6666666666666666, \"#ed7953\"], [0.7777777777777778, \"#fb9f3a\"], [0.8888888888888888, \"#fdca26\"], [1.0, \"#f0f921\"]], \"type\": \"surface\"}], \"table\": [{\"cells\": {\"fill\": {\"color\": \"#EBF0F8\"}, \"line\": {\"color\": \"white\"}}, \"header\": {\"fill\": {\"color\": \"#C8D4E3\"}, \"line\": {\"color\": \"white\"}}, \"type\": \"table\"}]}, \"layout\": {\"annotationdefaults\": {\"arrowcolor\": \"#2a3f5f\", \"arrowhead\": 0, \"arrowwidth\": 1}, \"coloraxis\": {\"colorbar\": {\"outlinewidth\": 0, \"ticks\": \"\"}}, \"colorscale\": {\"diverging\": [[0, \"#8e0152\"], [0.1, \"#c51b7d\"], [0.2, \"#de77ae\"], [0.3, \"#f1b6da\"], [0.4, \"#fde0ef\"], [0.5, \"#f7f7f7\"], [0.6, \"#e6f5d0\"], [0.7, \"#b8e186\"], [0.8, \"#7fbc41\"], [0.9, \"#4d9221\"], [1, \"#276419\"]], \"sequential\": [[0.0, \"#0d0887\"], [0.1111111111111111, \"#46039f\"], [0.2222222222222222, \"#7201a8\"], [0.3333333333333333, \"#9c179e\"], [0.4444444444444444, \"#bd3786\"], [0.5555555555555556, \"#d8576b\"], [0.6666666666666666, \"#ed7953\"], [0.7777777777777778, \"#fb9f3a\"], [0.8888888888888888, \"#fdca26\"], [1.0, \"#f0f921\"]], \"sequentialminus\": [[0.0, \"#0d0887\"], [0.1111111111111111, \"#46039f\"], [0.2222222222222222, \"#7201a8\"], [0.3333333333333333, \"#9c179e\"], [0.4444444444444444, \"#bd3786\"], [0.5555555555555556, \"#d8576b\"], [0.6666666666666666, \"#ed7953\"], [0.7777777777777778, \"#fb9f3a\"], [0.8888888888888888, \"#fdca26\"], [1.0, \"#f0f921\"]]}, \"colorway\": [\"#636efa\", \"#EF553B\", \"#00cc96\", \"#ab63fa\", \"#FFA15A\", \"#19d3f3\", \"#FF6692\", \"#B6E880\", \"#FF97FF\", \"#FECB52\"], \"font\": {\"color\": \"#2a3f5f\"}, \"geo\": {\"bgcolor\": \"white\", \"lakecolor\": \"white\", \"landcolor\": \"#E5ECF6\", \"showlakes\": true, \"showland\": true, \"subunitcolor\": \"white\"}, \"hoverlabel\": {\"align\": \"left\"}, \"hovermode\": \"closest\", \"mapbox\": {\"style\": \"light\"}, \"paper_bgcolor\": \"white\", \"plot_bgcolor\": \"#E5ECF6\", \"polar\": {\"angularaxis\": {\"gridcolor\": \"white\", \"linecolor\": \"white\", \"ticks\": \"\"}, \"bgcolor\": \"#E5ECF6\", \"radialaxis\": {\"gridcolor\": \"white\", \"linecolor\": \"white\", \"ticks\": \"\"}}, \"scene\": {\"xaxis\": {\"backgroundcolor\": \"#E5ECF6\", \"gridcolor\": \"white\", \"gridwidth\": 2, \"linecolor\": \"white\", \"showbackground\": true, \"ticks\": \"\", \"zerolinecolor\": \"white\"}, \"yaxis\": {\"backgroundcolor\": \"#E5ECF6\", \"gridcolor\": \"white\", \"gridwidth\": 2, \"linecolor\": \"white\", \"showbackground\": true, \"ticks\": \"\", \"zerolinecolor\": \"white\"}, \"zaxis\": {\"backgroundcolor\": \"#E5ECF6\", \"gridcolor\": \"white\", \"gridwidth\": 2, \"linecolor\": \"white\", \"showbackground\": true, \"ticks\": \"\", \"zerolinecolor\": \"white\"}}, \"shapedefaults\": {\"line\": {\"color\": \"#2a3f5f\"}}, \"ternary\": {\"aaxis\": {\"gridcolor\": \"white\", \"linecolor\": \"white\", \"ticks\": \"\"}, \"baxis\": {\"gridcolor\": \"white\", \"linecolor\": \"white\", \"ticks\": \"\"}, \"bgcolor\": \"#E5ECF6\", \"caxis\": {\"gridcolor\": \"white\", \"linecolor\": \"white\", \"ticks\": \"\"}}, \"title\": {\"x\": 0.05}, \"xaxis\": {\"automargin\": true, \"gridcolor\": \"white\", \"linecolor\": \"white\", \"ticks\": \"\", \"title\": {\"standoff\": 15}, \"zerolinecolor\": \"white\", \"zerolinewidth\": 2}, \"yaxis\": {\"automargin\": true, \"gridcolor\": \"white\", \"linecolor\": \"white\", \"ticks\": \"\", \"title\": {\"standoff\": 15}, \"zerolinecolor\": \"white\", \"zerolinewidth\": 2}}}, \"title\": {\"text\": \"% change in unemployment from 2019 to 2020\"}},\n",
              "                        {\"responsive\": true}\n",
              "                    ).then(function(){\n",
              "                            \n",
              "var gd = document.getElementById('6a0d1e0a-c8a4-46f1-85c5-3a1586c8afb6');\n",
              "var x = new MutationObserver(function (mutations, observer) {{\n",
              "        var display = window.getComputedStyle(gd).display;\n",
              "        if (!display || display === 'none') {{\n",
              "            console.log([gd, 'removed!']);\n",
              "            Plotly.purge(gd);\n",
              "            observer.disconnect();\n",
              "        }}\n",
              "}});\n",
              "\n",
              "// Listen for the removal of the full notebook cells\n",
              "var notebookContainer = gd.closest('#notebook-container');\n",
              "if (notebookContainer) {{\n",
              "    x.observe(notebookContainer, {childList: true});\n",
              "}}\n",
              "\n",
              "// Listen for the clearing of the current output cell\n",
              "var outputEl = gd.closest('.output');\n",
              "if (outputEl) {{\n",
              "    x.observe(outputEl, {childList: true});\n",
              "}}\n",
              "\n",
              "                        })\n",
              "                };\n",
              "                \n",
              "            </script>\n",
              "        </div>\n",
              "</body>\n",
              "</html>"
            ]
          },
          "metadata": {
            "tags": []
          }
        }
      ]
    },
    {
      "cell_type": "code",
      "metadata": {
        "colab": {
          "base_uri": "https://localhost:8080/",
          "height": 542
        },
        "id": "OomtiAQt3qjU",
        "outputId": "2c69c344-094d-461d-ab9e-a151c3545ded"
      },
      "source": [
        "fig = px.choropleth(combined, locations= \"Country Name\", \n",
        "                    locationmode=\"country names\", color= \"2020_x\", \n",
        "                    hover_name= \"Country Name\",\n",
        "                    color_continuous_scale=\"reds\",\n",
        "                    title='% of unemployment in 2020')\n",
        "fig.update(layout_coloraxis_showscale=True)\n",
        "#fig.savefig('world-view.svg')\n",
        "fig.show()"
      ],
      "execution_count": 277,
      "outputs": [
        {
          "output_type": "display_data",
          "data": {
            "text/html": [
              "<html>\n",
              "<head><meta charset=\"utf-8\" /></head>\n",
              "<body>\n",
              "    <div>\n",
              "            <script src=\"https://cdnjs.cloudflare.com/ajax/libs/mathjax/2.7.5/MathJax.js?config=TeX-AMS-MML_SVG\"></script><script type=\"text/javascript\">if (window.MathJax) {MathJax.Hub.Config({SVG: {font: \"STIX-Web\"}});}</script>\n",
              "                <script type=\"text/javascript\">window.PlotlyConfig = {MathJaxConfig: 'local'};</script>\n",
              "        <script src=\"https://cdn.plot.ly/plotly-latest.min.js\"></script>    \n",
              "            <div id=\"544387fe-269b-4294-91b9-7b79c23188b4\" class=\"plotly-graph-div\" style=\"height:525px; width:100%;\"></div>\n",
              "            <script type=\"text/javascript\">\n",
              "                \n",
              "                    window.PLOTLYENV=window.PLOTLYENV || {};\n",
              "                    \n",
              "                if (document.getElementById(\"544387fe-269b-4294-91b9-7b79c23188b4\")) {\n",
              "                    Plotly.newPlot(\n",
              "                        '544387fe-269b-4294-91b9-7b79c23188b4',\n",
              "                        [{\"coloraxis\": \"coloraxis\", \"geo\": \"geo\", \"hoverlabel\": {\"namelength\": 0}, \"hovertemplate\": \"<b>%{hovertext}</b><br><br>Country Name=%{location}<br>2020_x=%{z}\", \"hovertext\": [\"Afghanistan\", \"Angola\", \"Albania\", \"Arab World\", \"United Arab Emirates\", \"Argentina\", \"Armenia\", \"Australia\", \"Austria\", \"Azerbaijan\", \"Burundi\", \"Belgium\", \"Benin\", \"Burkina Faso\", \"Bangladesh\", \"Bulgaria\", \"Bahrain\", \"Bahamas, The\", \"Bosnia and Herzegovina\", \"Belarus\", \"Belize\", \"Bolivia\", \"Brazil\", \"Barbados\", \"Brunei Darussalam\", \"Bhutan\", \"Botswana\", \"Central African Republic\", \"Canada\", \"Central Europe and the Baltics\", \"Switzerland\", \"Channel Islands\", \"Chile\", \"China\", \"Cote d'Ivoire\", \"Cameroon\", \"Congo, Dem. Rep.\", \"Congo, Rep.\", \"Colombia\", \"Comoros\", \"Cabo Verde\", \"Costa Rica\", \"Caribbean small states\", \"Cuba\", \"Cyprus\", \"Czech Republic\", \"Germany\", \"Djibouti\", \"Denmark\", \"Dominican Republic\", \"Algeria\", \"East Asia & Pacific (excluding high income)\", \"Early-demographic dividend\", \"East Asia & Pacific\", \"Europe & Central Asia (excluding high income)\", \"Europe & Central Asia\", \"Ecuador\", \"Egypt, Arab Rep.\", \"Euro area\", \"Eritrea\", \"Spain\", \"Estonia\", \"Ethiopia\", \"European Union\", \"Fragile and conflict affected situations\", \"Finland\", \"Fiji\", \"France\", \"Gabon\", \"United Kingdom\", \"Georgia\", \"Ghana\", \"Guinea\", \"Gambia, The\", \"Guinea-Bissau\", \"Equatorial Guinea\", \"Greece\", \"Guatemala\", \"Guam\", \"Guyana\", \"High income\", \"Hong Kong SAR, China\", \"Honduras\", \"Heavily indebted poor countries (HIPC)\", \"Croatia\", \"Haiti\", \"Hungary\", \"IBRD only\", \"IDA & IBRD total\", \"IDA total\", \"IDA blend\", \"Indonesia\", \"IDA only\", \"India\", \"Ireland\", \"Iran, Islamic Rep.\", \"Iraq\", \"Iceland\", \"Israel\", \"Italy\", \"Jamaica\", \"Jordan\", \"Japan\", \"Kazakhstan\", \"Kenya\", \"Kyrgyz Republic\", \"Cambodia\", \"Korea, Rep.\", \"Kuwait\", \"Latin America & Caribbean (excluding high income)\", \"Lao PDR\", \"Lebanon\", \"Liberia\", \"Libya\", \"St. Lucia\", \"Latin America & Caribbean\", \"Least developed countries: UN classification\", \"Low income\", \"Sri Lanka\", \"Lower middle income\", \"Low & middle income\", \"Lesotho\", \"Late-demographic dividend\", \"Lithuania\", \"Luxembourg\", \"Latvia\", \"Macao SAR, China\", \"Morocco\", \"Moldova\", \"Madagascar\", \"Maldives\", \"Middle East & North Africa\", \"Mexico\", \"Middle income\", \"North Macedonia\", \"Mali\", \"Malta\", \"Myanmar\", \"Middle East & North Africa (excluding high income)\", \"Montenegro\", \"Mongolia\", \"Mozambique\", \"Mauritania\", \"Mauritius\", \"Malawi\", \"Malaysia\", \"North America\", \"Namibia\", \"New Caledonia\", \"Niger\", \"Nigeria\", \"Nicaragua\", \"Netherlands\", \"Norway\", \"Nepal\", \"New Zealand\", \"OECD members\", \"Oman\", \"Other small states\", \"Pakistan\", \"Panama\", \"Peru\", \"Philippines\", \"Papua New Guinea\", \"Poland\", \"Pre-demographic dividend\", \"Puerto Rico\", \"Korea, Dem. People\\u2019s Rep.\", \"Portugal\", \"Paraguay\", \"West Bank and Gaza\", \"Pacific island small states\", \"Post-demographic dividend\", \"French Polynesia\", \"Qatar\", \"Romania\", \"Russian Federation\", \"Rwanda\", \"South Asia\", \"Saudi Arabia\", \"Sudan\", \"Senegal\", \"Singapore\", \"Solomon Islands\", \"Sierra Leone\", \"El Salvador\", \"Somalia\", \"Serbia\", \"Sub-Saharan Africa (excluding high income)\", \"South Sudan\", \"Sub-Saharan Africa\", \"Small states\", \"Sao Tome and Principe\", \"Suriname\", \"Slovak Republic\", \"Slovenia\", \"Sweden\", \"Eswatini\", \"Syrian Arab Republic\", \"Chad\", \"East Asia & Pacific (IDA & IBRD countries)\", \"Europe & Central Asia (IDA & IBRD countries)\", \"Togo\", \"Thailand\", \"Tajikistan\", \"Turkmenistan\", \"Latin America & the Caribbean (IDA & IBRD countries)\", \"Timor-Leste\", \"Middle East & North Africa (IDA & IBRD countries)\", \"Tonga\", \"South Asia (IDA & IBRD)\", \"Sub-Saharan Africa (IDA & IBRD countries)\", \"Trinidad and Tobago\", \"Tunisia\", \"Turkey\", \"Tanzania\", \"Uganda\", \"Ukraine\", \"Upper middle income\", \"Uruguay\", \"United States\", \"Uzbekistan\", \"St. Vincent and the Grenadines\", \"Venezuela, RB\", \"Virgin Islands (U.S.)\", \"Vietnam\", \"Vanuatu\", \"World\", \"Samoa\", \"Yemen, Rep.\", \"South Africa\", \"Zambia\", \"Zimbabwe\"], \"locationmode\": \"country names\", \"locations\": [\"Afghanistan\", \"Angola\", \"Albania\", \"Arab World\", \"United Arab Emirates\", \"Argentina\", \"Armenia\", \"Australia\", \"Austria\", \"Azerbaijan\", \"Burundi\", \"Belgium\", \"Benin\", \"Burkina Faso\", \"Bangladesh\", \"Bulgaria\", \"Bahrain\", \"Bahamas, The\", \"Bosnia and Herzegovina\", \"Belarus\", \"Belize\", \"Bolivia\", \"Brazil\", \"Barbados\", \"Brunei Darussalam\", \"Bhutan\", \"Botswana\", \"Central African Republic\", \"Canada\", \"Central Europe and the Baltics\", \"Switzerland\", \"Channel Islands\", \"Chile\", \"China\", \"Cote d'Ivoire\", \"Cameroon\", \"Congo, Dem. Rep.\", \"Congo, Rep.\", \"Colombia\", \"Comoros\", \"Cabo Verde\", \"Costa Rica\", \"Caribbean small states\", \"Cuba\", \"Cyprus\", \"Czech Republic\", \"Germany\", \"Djibouti\", \"Denmark\", \"Dominican Republic\", \"Algeria\", \"East Asia & Pacific (excluding high income)\", \"Early-demographic dividend\", \"East Asia & Pacific\", \"Europe & Central Asia (excluding high income)\", \"Europe & Central Asia\", \"Ecuador\", \"Egypt, Arab Rep.\", \"Euro area\", \"Eritrea\", \"Spain\", \"Estonia\", \"Ethiopia\", \"European Union\", \"Fragile and conflict affected situations\", \"Finland\", \"Fiji\", \"France\", \"Gabon\", \"United Kingdom\", \"Georgia\", \"Ghana\", \"Guinea\", \"Gambia, The\", \"Guinea-Bissau\", \"Equatorial Guinea\", \"Greece\", \"Guatemala\", \"Guam\", \"Guyana\", \"High income\", \"Hong Kong SAR, China\", \"Honduras\", \"Heavily indebted poor countries (HIPC)\", \"Croatia\", \"Haiti\", \"Hungary\", \"IBRD only\", \"IDA & IBRD total\", \"IDA total\", \"IDA blend\", \"Indonesia\", \"IDA only\", \"India\", \"Ireland\", \"Iran, Islamic Rep.\", \"Iraq\", \"Iceland\", \"Israel\", \"Italy\", \"Jamaica\", \"Jordan\", \"Japan\", \"Kazakhstan\", \"Kenya\", \"Kyrgyz Republic\", \"Cambodia\", \"Korea, Rep.\", \"Kuwait\", \"Latin America & Caribbean (excluding high income)\", \"Lao PDR\", \"Lebanon\", \"Liberia\", \"Libya\", \"St. Lucia\", \"Latin America & Caribbean\", \"Least developed countries: UN classification\", \"Low income\", \"Sri Lanka\", \"Lower middle income\", \"Low & middle income\", \"Lesotho\", \"Late-demographic dividend\", \"Lithuania\", \"Luxembourg\", \"Latvia\", \"Macao SAR, China\", \"Morocco\", \"Moldova\", \"Madagascar\", \"Maldives\", \"Middle East & North Africa\", \"Mexico\", \"Middle income\", \"North Macedonia\", \"Mali\", \"Malta\", \"Myanmar\", \"Middle East & North Africa (excluding high income)\", \"Montenegro\", \"Mongolia\", \"Mozambique\", \"Mauritania\", \"Mauritius\", \"Malawi\", \"Malaysia\", \"North America\", \"Namibia\", \"New Caledonia\", \"Niger\", \"Nigeria\", \"Nicaragua\", \"Netherlands\", \"Norway\", \"Nepal\", \"New Zealand\", \"OECD members\", \"Oman\", \"Other small states\", \"Pakistan\", \"Panama\", \"Peru\", \"Philippines\", \"Papua New Guinea\", \"Poland\", \"Pre-demographic dividend\", \"Puerto Rico\", \"Korea, Dem. People\\u2019s Rep.\", \"Portugal\", \"Paraguay\", \"West Bank and Gaza\", \"Pacific island small states\", \"Post-demographic dividend\", \"French Polynesia\", \"Qatar\", \"Romania\", \"Russian Federation\", \"Rwanda\", \"South Asia\", \"Saudi Arabia\", \"Sudan\", \"Senegal\", \"Singapore\", \"Solomon Islands\", \"Sierra Leone\", \"El Salvador\", \"Somalia\", \"Serbia\", \"Sub-Saharan Africa (excluding high income)\", \"South Sudan\", \"Sub-Saharan Africa\", \"Small states\", \"Sao Tome and Principe\", \"Suriname\", \"Slovak Republic\", \"Slovenia\", \"Sweden\", \"Eswatini\", \"Syrian Arab Republic\", \"Chad\", \"East Asia & Pacific (IDA & IBRD countries)\", \"Europe & Central Asia (IDA & IBRD countries)\", \"Togo\", \"Thailand\", \"Tajikistan\", \"Turkmenistan\", \"Latin America & the Caribbean (IDA & IBRD countries)\", \"Timor-Leste\", \"Middle East & North Africa (IDA & IBRD countries)\", \"Tonga\", \"South Asia (IDA & IBRD)\", \"Sub-Saharan Africa (IDA & IBRD countries)\", \"Trinidad and Tobago\", \"Tunisia\", \"Turkey\", \"Tanzania\", \"Uganda\", \"Ukraine\", \"Upper middle income\", \"Uruguay\", \"United States\", \"Uzbekistan\", \"St. Vincent and the Grenadines\", \"Venezuela, RB\", \"Virgin Islands (U.S.)\", \"Vietnam\", \"Vanuatu\", \"World\", \"Samoa\", \"Yemen, Rep.\", \"South Africa\", \"Zambia\", \"Zimbabwe\"], \"name\": \"\", \"type\": \"choropleth\", \"z\": [11.7299995422363, 7.69999980926514, 11.6999998092651, 11.481467663881455, 5.0, 11.6700000762939, 20.2099990844727, 6.6100001335144, 5.76999998092651, 6.26999998092651, 0.800000011920929, 6.01000022888184, 2.53999996185303, 4.96000003814697, 5.30000019073486, 5.71000003814697, 4.09000015258789, 14.4099998474121, 16.8500003814697, 5.28000020980835, 7.82000017166138, 5.6100001335144, 13.6700000762939, 12.789999961853, 8.36999988555908, 3.74000000953674, 17.7000007629395, 4.32999992370605, 9.47999954223633, 4.559771131073191, 4.94000005722046, 8.15999984741211, 11.5100002288818, 5.0, 3.5, 3.61999988555908, 4.55000019073486, 10.2700004577637, 15.4399995803833, 8.43000030517578, 13.4099998474121, 17.0799999237061, 9.798032624813631, 3.86999988555908, 7.21000003814697, 2.94000005722046, 4.30999994277954, 11.5699996948242, 5.65999984741211, 8.89999961853027, 12.8299999237061, 4.389350118379473, 6.864854438602428, 4.339073666705787, 8.121997874639716, 7.405227183266323, 6.23000001907349, 10.4499998092651, 8.199899396501811, 7.44000005722046, 15.6700000762939, 6.46000003814697, 2.78999996185303, 7.372460431852828, 7.507809314072448, 7.82999992370605, 4.78999996185303, 8.61999988555908, 20.4699993133545, 4.34000015258789, 12.0500001907349, 4.53000020980835, 4.34999990463257, 9.64000034332275, 3.16000008583069, 9.14999961853027, 16.8500003814697, 4.65000009536743, 7.51000022888184, 15.8199996948242, 6.791423432722041, 5.80000019073486, 9.39000034332275, 4.935379757777493, 7.19999980926514, 14.5, 4.34999990463257, 6.746118687079566, 6.414862469780134, 5.305917863358353, 5.956378064988217, 4.1100001335144, 5.016251259281874, 7.1100001335144, 5.92000007629395, 10.960000038147, 13.7399997711182, 5.01000022888184, 4.6100001335144, 9.3100004196167, 8.39999961853027, 18.5, 2.97000002861023, 6.05000019073486, 2.98000001907349, 7.8899998664856, 0.310000002384186, 4.07000017166138, 6.78999996185303, 10.226152620918297, 0.949999988079071, 6.6100001335144, 3.29999995231628, 19.3899993896484, 17.1299991607666, 10.27962155492744, 5.007637566335091, 5.304084972626537, 4.84000015258789, 6.271155000219263, 6.39901784315259, 24.6499996185303, 5.934742680053582, 8.43000030517578, 6.96000003814697, 8.1899995803833, 2.5, 10.1499996185303, 4.71000003814697, 1.91999995708466, 7.17999982833862, 10.635124031024041, 4.71000003814697, 6.512856401822735, 18.3999996185303, 7.5, 4.09000015258789, 1.78999996185303, 11.904362773163493, 15.8599996566772, 4.32999992370605, 3.39000010490417, 10.6599998474121, 7.1100001335144, 5.98999977111816, 4.55000019073486, 8.438437273507807, 20.3500003814697, 16.5200004577637, 0.689999997615814, 9.01000022888184, 5.82000017166138, 4.09000015258789, 4.61999988555908, 4.44000005722046, 4.55000019073486, 7.3442289793396585, 4.96999979019165, 10.469433276557716, 4.65000009536743, 10.2299995422363, 6.23999977111816, 3.35999989509583, 2.74000000953674, 3.54999995231628, 6.207204259725242, 11.1700000762939, 2.80999994277954, 7.19999980926514, 7.6100001335144, 27.3500003814697, 3.1076866958462492, 6.957512867047584, 13.8100004196167, 3.45000004768372, 4.84000015258789, 5.73000001907349, 1.35000002384186, 6.6250963534007585, 8.22000026702881, 17.7099990844727, 7.09999990463257, 5.19000005722046, 0.790000021457672, 4.59999990463257, 6.98000001907349, 13.1000003814697, 9.07999992370605, 6.628448316026723, 12.6599998474121, 6.629116226738073, 9.988239078795528, 13.8599996566772, 8.64999961853027, 6.78999996185303, 5.17000007629395, 8.44999980926514, 23.3999996185303, 9.02999973297119, 2.25999999046326, 4.412811346178583, 7.570598935583662, 4.05000019073486, 1.01999998092651, 7.5, 4.38000011444092, 10.379117284999504, 5.05999994277954, 11.732874519455752, 4.36999988555908, 6.6250963534007585, 6.629116226738073, 6.73999977111816, 16.6900005340576, 13.9200000762939, 2.16000008583069, 2.44000005722046, 9.47999954223633, 6.695388522422146, 12.6700000762939, 8.3100004196167, 5.96999979019165, 20.2700004577637, 9.14000034332275, 11.8400001525879, 2.26999998092651, 1.95000004768372, 6.47111124367714, 8.86999988555908, 13.4200000762939, 28.7399997711182, 12.1700000762939, 5.73000001907349]}],\n",
              "                        {\"coloraxis\": {\"colorbar\": {\"title\": {\"text\": \"2020_x\"}}, \"colorscale\": [[0.0, \"rgb(255,245,240)\"], [0.125, \"rgb(254,224,210)\"], [0.25, \"rgb(252,187,161)\"], [0.375, \"rgb(252,146,114)\"], [0.5, \"rgb(251,106,74)\"], [0.625, \"rgb(239,59,44)\"], [0.75, \"rgb(203,24,29)\"], [0.875, \"rgb(165,15,21)\"], [1.0, \"rgb(103,0,13)\"]], \"showscale\": true}, \"geo\": {\"center\": {}, \"domain\": {\"x\": [0.0, 1.0], \"y\": [0.0, 1.0]}}, \"legend\": {\"tracegroupgap\": 0}, \"template\": {\"data\": {\"bar\": [{\"error_x\": {\"color\": \"#2a3f5f\"}, \"error_y\": {\"color\": \"#2a3f5f\"}, \"marker\": {\"line\": {\"color\": \"#E5ECF6\", \"width\": 0.5}}, \"type\": \"bar\"}], \"barpolar\": [{\"marker\": {\"line\": {\"color\": \"#E5ECF6\", \"width\": 0.5}}, \"type\": \"barpolar\"}], \"carpet\": [{\"aaxis\": {\"endlinecolor\": \"#2a3f5f\", \"gridcolor\": \"white\", \"linecolor\": \"white\", \"minorgridcolor\": \"white\", \"startlinecolor\": \"#2a3f5f\"}, \"baxis\": {\"endlinecolor\": \"#2a3f5f\", \"gridcolor\": \"white\", \"linecolor\": \"white\", \"minorgridcolor\": \"white\", \"startlinecolor\": \"#2a3f5f\"}, \"type\": \"carpet\"}], \"choropleth\": [{\"colorbar\": {\"outlinewidth\": 0, \"ticks\": \"\"}, \"type\": \"choropleth\"}], \"contour\": [{\"colorbar\": {\"outlinewidth\": 0, \"ticks\": \"\"}, \"colorscale\": [[0.0, \"#0d0887\"], [0.1111111111111111, \"#46039f\"], [0.2222222222222222, \"#7201a8\"], [0.3333333333333333, \"#9c179e\"], [0.4444444444444444, \"#bd3786\"], [0.5555555555555556, \"#d8576b\"], [0.6666666666666666, \"#ed7953\"], [0.7777777777777778, \"#fb9f3a\"], [0.8888888888888888, \"#fdca26\"], [1.0, \"#f0f921\"]], \"type\": \"contour\"}], \"contourcarpet\": [{\"colorbar\": {\"outlinewidth\": 0, \"ticks\": \"\"}, \"type\": \"contourcarpet\"}], \"heatmap\": [{\"colorbar\": {\"outlinewidth\": 0, \"ticks\": \"\"}, \"colorscale\": [[0.0, \"#0d0887\"], [0.1111111111111111, \"#46039f\"], [0.2222222222222222, \"#7201a8\"], [0.3333333333333333, \"#9c179e\"], [0.4444444444444444, \"#bd3786\"], [0.5555555555555556, \"#d8576b\"], [0.6666666666666666, \"#ed7953\"], [0.7777777777777778, \"#fb9f3a\"], [0.8888888888888888, \"#fdca26\"], [1.0, \"#f0f921\"]], \"type\": \"heatmap\"}], \"heatmapgl\": [{\"colorbar\": {\"outlinewidth\": 0, \"ticks\": \"\"}, \"colorscale\": [[0.0, \"#0d0887\"], [0.1111111111111111, \"#46039f\"], [0.2222222222222222, \"#7201a8\"], [0.3333333333333333, \"#9c179e\"], [0.4444444444444444, \"#bd3786\"], [0.5555555555555556, \"#d8576b\"], [0.6666666666666666, \"#ed7953\"], [0.7777777777777778, \"#fb9f3a\"], [0.8888888888888888, \"#fdca26\"], [1.0, \"#f0f921\"]], \"type\": \"heatmapgl\"}], \"histogram\": [{\"marker\": {\"colorbar\": {\"outlinewidth\": 0, \"ticks\": \"\"}}, \"type\": \"histogram\"}], \"histogram2d\": [{\"colorbar\": {\"outlinewidth\": 0, \"ticks\": \"\"}, \"colorscale\": [[0.0, \"#0d0887\"], [0.1111111111111111, \"#46039f\"], [0.2222222222222222, \"#7201a8\"], [0.3333333333333333, \"#9c179e\"], [0.4444444444444444, \"#bd3786\"], [0.5555555555555556, \"#d8576b\"], [0.6666666666666666, \"#ed7953\"], [0.7777777777777778, \"#fb9f3a\"], [0.8888888888888888, \"#fdca26\"], [1.0, \"#f0f921\"]], \"type\": \"histogram2d\"}], \"histogram2dcontour\": [{\"colorbar\": {\"outlinewidth\": 0, \"ticks\": \"\"}, \"colorscale\": [[0.0, \"#0d0887\"], [0.1111111111111111, \"#46039f\"], [0.2222222222222222, \"#7201a8\"], [0.3333333333333333, \"#9c179e\"], [0.4444444444444444, \"#bd3786\"], [0.5555555555555556, \"#d8576b\"], [0.6666666666666666, \"#ed7953\"], [0.7777777777777778, \"#fb9f3a\"], [0.8888888888888888, \"#fdca26\"], [1.0, \"#f0f921\"]], \"type\": \"histogram2dcontour\"}], \"mesh3d\": [{\"colorbar\": {\"outlinewidth\": 0, \"ticks\": \"\"}, \"type\": \"mesh3d\"}], \"parcoords\": [{\"line\": {\"colorbar\": {\"outlinewidth\": 0, \"ticks\": \"\"}}, \"type\": \"parcoords\"}], \"pie\": [{\"automargin\": true, \"type\": \"pie\"}], \"scatter\": [{\"marker\": {\"colorbar\": {\"outlinewidth\": 0, \"ticks\": \"\"}}, \"type\": \"scatter\"}], \"scatter3d\": [{\"line\": {\"colorbar\": {\"outlinewidth\": 0, \"ticks\": \"\"}}, \"marker\": {\"colorbar\": {\"outlinewidth\": 0, \"ticks\": \"\"}}, \"type\": \"scatter3d\"}], \"scattercarpet\": [{\"marker\": {\"colorbar\": {\"outlinewidth\": 0, \"ticks\": \"\"}}, \"type\": \"scattercarpet\"}], \"scattergeo\": [{\"marker\": {\"colorbar\": {\"outlinewidth\": 0, \"ticks\": \"\"}}, \"type\": \"scattergeo\"}], \"scattergl\": [{\"marker\": {\"colorbar\": {\"outlinewidth\": 0, \"ticks\": \"\"}}, \"type\": \"scattergl\"}], \"scattermapbox\": [{\"marker\": {\"colorbar\": {\"outlinewidth\": 0, \"ticks\": \"\"}}, \"type\": \"scattermapbox\"}], \"scatterpolar\": [{\"marker\": {\"colorbar\": {\"outlinewidth\": 0, \"ticks\": \"\"}}, \"type\": \"scatterpolar\"}], \"scatterpolargl\": [{\"marker\": {\"colorbar\": {\"outlinewidth\": 0, \"ticks\": \"\"}}, \"type\": \"scatterpolargl\"}], \"scatterternary\": [{\"marker\": {\"colorbar\": {\"outlinewidth\": 0, \"ticks\": \"\"}}, \"type\": \"scatterternary\"}], \"surface\": [{\"colorbar\": {\"outlinewidth\": 0, \"ticks\": \"\"}, \"colorscale\": [[0.0, \"#0d0887\"], [0.1111111111111111, \"#46039f\"], [0.2222222222222222, \"#7201a8\"], [0.3333333333333333, \"#9c179e\"], [0.4444444444444444, \"#bd3786\"], [0.5555555555555556, \"#d8576b\"], [0.6666666666666666, \"#ed7953\"], [0.7777777777777778, \"#fb9f3a\"], [0.8888888888888888, \"#fdca26\"], [1.0, \"#f0f921\"]], \"type\": \"surface\"}], \"table\": [{\"cells\": {\"fill\": {\"color\": \"#EBF0F8\"}, \"line\": {\"color\": \"white\"}}, \"header\": {\"fill\": {\"color\": \"#C8D4E3\"}, \"line\": {\"color\": \"white\"}}, \"type\": \"table\"}]}, \"layout\": {\"annotationdefaults\": {\"arrowcolor\": \"#2a3f5f\", \"arrowhead\": 0, \"arrowwidth\": 1}, \"coloraxis\": {\"colorbar\": {\"outlinewidth\": 0, \"ticks\": \"\"}}, \"colorscale\": {\"diverging\": [[0, \"#8e0152\"], [0.1, \"#c51b7d\"], [0.2, \"#de77ae\"], [0.3, \"#f1b6da\"], [0.4, \"#fde0ef\"], [0.5, \"#f7f7f7\"], [0.6, \"#e6f5d0\"], [0.7, \"#b8e186\"], [0.8, \"#7fbc41\"], [0.9, \"#4d9221\"], [1, \"#276419\"]], \"sequential\": [[0.0, \"#0d0887\"], [0.1111111111111111, \"#46039f\"], [0.2222222222222222, \"#7201a8\"], [0.3333333333333333, \"#9c179e\"], [0.4444444444444444, \"#bd3786\"], [0.5555555555555556, \"#d8576b\"], [0.6666666666666666, \"#ed7953\"], [0.7777777777777778, \"#fb9f3a\"], [0.8888888888888888, \"#fdca26\"], [1.0, \"#f0f921\"]], \"sequentialminus\": [[0.0, \"#0d0887\"], [0.1111111111111111, \"#46039f\"], [0.2222222222222222, \"#7201a8\"], [0.3333333333333333, \"#9c179e\"], [0.4444444444444444, \"#bd3786\"], [0.5555555555555556, \"#d8576b\"], [0.6666666666666666, \"#ed7953\"], [0.7777777777777778, \"#fb9f3a\"], [0.8888888888888888, \"#fdca26\"], [1.0, \"#f0f921\"]]}, \"colorway\": [\"#636efa\", \"#EF553B\", \"#00cc96\", \"#ab63fa\", \"#FFA15A\", \"#19d3f3\", \"#FF6692\", \"#B6E880\", \"#FF97FF\", \"#FECB52\"], \"font\": {\"color\": \"#2a3f5f\"}, \"geo\": {\"bgcolor\": \"white\", \"lakecolor\": \"white\", \"landcolor\": \"#E5ECF6\", \"showlakes\": true, \"showland\": true, \"subunitcolor\": \"white\"}, \"hoverlabel\": {\"align\": \"left\"}, \"hovermode\": \"closest\", \"mapbox\": {\"style\": \"light\"}, \"paper_bgcolor\": \"white\", \"plot_bgcolor\": \"#E5ECF6\", \"polar\": {\"angularaxis\": {\"gridcolor\": \"white\", \"linecolor\": \"white\", \"ticks\": \"\"}, \"bgcolor\": \"#E5ECF6\", \"radialaxis\": {\"gridcolor\": \"white\", \"linecolor\": \"white\", \"ticks\": \"\"}}, \"scene\": {\"xaxis\": {\"backgroundcolor\": \"#E5ECF6\", \"gridcolor\": \"white\", \"gridwidth\": 2, \"linecolor\": \"white\", \"showbackground\": true, \"ticks\": \"\", \"zerolinecolor\": \"white\"}, \"yaxis\": {\"backgroundcolor\": \"#E5ECF6\", \"gridcolor\": \"white\", \"gridwidth\": 2, \"linecolor\": \"white\", \"showbackground\": true, \"ticks\": \"\", \"zerolinecolor\": \"white\"}, \"zaxis\": {\"backgroundcolor\": \"#E5ECF6\", \"gridcolor\": \"white\", \"gridwidth\": 2, \"linecolor\": \"white\", \"showbackground\": true, \"ticks\": \"\", \"zerolinecolor\": \"white\"}}, \"shapedefaults\": {\"line\": {\"color\": \"#2a3f5f\"}}, \"ternary\": {\"aaxis\": {\"gridcolor\": \"white\", \"linecolor\": \"white\", \"ticks\": \"\"}, \"baxis\": {\"gridcolor\": \"white\", \"linecolor\": \"white\", \"ticks\": \"\"}, \"bgcolor\": \"#E5ECF6\", \"caxis\": {\"gridcolor\": \"white\", \"linecolor\": \"white\", \"ticks\": \"\"}}, \"title\": {\"x\": 0.05}, \"xaxis\": {\"automargin\": true, \"gridcolor\": \"white\", \"linecolor\": \"white\", \"ticks\": \"\", \"title\": {\"standoff\": 15}, \"zerolinecolor\": \"white\", \"zerolinewidth\": 2}, \"yaxis\": {\"automargin\": true, \"gridcolor\": \"white\", \"linecolor\": \"white\", \"ticks\": \"\", \"title\": {\"standoff\": 15}, \"zerolinecolor\": \"white\", \"zerolinewidth\": 2}}}, \"title\": {\"text\": \"% of unemplyment in 2020\"}},\n",
              "                        {\"responsive\": true}\n",
              "                    ).then(function(){\n",
              "                            \n",
              "var gd = document.getElementById('544387fe-269b-4294-91b9-7b79c23188b4');\n",
              "var x = new MutationObserver(function (mutations, observer) {{\n",
              "        var display = window.getComputedStyle(gd).display;\n",
              "        if (!display || display === 'none') {{\n",
              "            console.log([gd, 'removed!']);\n",
              "            Plotly.purge(gd);\n",
              "            observer.disconnect();\n",
              "        }}\n",
              "}});\n",
              "\n",
              "// Listen for the removal of the full notebook cells\n",
              "var notebookContainer = gd.closest('#notebook-container');\n",
              "if (notebookContainer) {{\n",
              "    x.observe(notebookContainer, {childList: true});\n",
              "}}\n",
              "\n",
              "// Listen for the clearing of the current output cell\n",
              "var outputEl = gd.closest('.output');\n",
              "if (outputEl) {{\n",
              "    x.observe(outputEl, {childList: true});\n",
              "}}\n",
              "\n",
              "                        })\n",
              "                };\n",
              "                \n",
              "            </script>\n",
              "        </div>\n",
              "</body>\n",
              "</html>"
            ]
          },
          "metadata": {
            "tags": []
          }
        }
      ]
    },
    {
      "cell_type": "code",
      "metadata": {
        "id": "rC9eNO8L7_9v"
      },
      "source": [
        ""
      ],
      "execution_count": null,
      "outputs": []
    }
  ]
}